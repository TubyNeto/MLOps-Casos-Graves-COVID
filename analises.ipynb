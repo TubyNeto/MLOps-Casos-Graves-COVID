{
 "cells": [
  {
   "cell_type": "code",
   "execution_count": 12,
   "metadata": {},
   "outputs": [],
   "source": [
    "import pandas as pd\n",
    "import matplotlib.pyplot as plt\n",
    "import seaborn as sns\n",
    "from mlxtend.frequent_patterns import apriori\n",
    "from mlxtend.frequent_patterns import association_rules\n",
    "\n",
    "df = pd.read_csv('sintomas_covid.csv',index_col=None)"
   ]
  },
  {
   "cell_type": "code",
   "execution_count": 2,
   "metadata": {},
   "outputs": [
    {
     "data": {
      "text/plain": [
       "array(['Unnamed: 0', 'SYMPTOM_COUGH', 'SYMPTOM_COLD',\n",
       "       'SYMPTOM_AIR_INSUFFICIENCY', 'SYMPTOM_FEVER',\n",
       "       'SYMPTOM_LOW_OXYGEN_SATURATION', 'SYMPTOM_BREATHING_CONDITION',\n",
       "       'SYMPTOM_TORACIC_APERTURE', 'SYMPTOM_THROAT_CONDITION',\n",
       "       'SYMPTOM_HEADACHE', 'SYMPTOM_BODY_PAIN', 'SYMPTOM_DIARRHEA',\n",
       "       'SYMPTOM_RUNNY_NOSE', 'SYMPTOM_NOSE_CONGESTION',\n",
       "       'SYMPTOM_WEAKNESS', 'SYMPTOM_ANOSMIA_OR_HYPOSMIA',\n",
       "       'SYMPTOM_NAUSEA', 'SYMPTOM_LACK_OF_APPETITE',\n",
       "       'SYMPTOM_ABDOMINAL_PAIN', 'SYMPTOM_CONSCIOUSNESS_DEGRADATION',\n",
       "       'death', 'idade'], dtype=object)"
      ]
     },
     "execution_count": 2,
     "metadata": {},
     "output_type": "execute_result"
    }
   ],
   "source": [
    "df.columns.values"
   ]
  },
  {
   "cell_type": "code",
   "execution_count": 3,
   "metadata": {},
   "outputs": [],
   "source": [
    "df.drop('Unnamed: 0',inplace = True,axis=1)"
   ]
  },
  {
   "cell_type": "code",
   "execution_count": 4,
   "metadata": {},
   "outputs": [],
   "source": [
    "def creating_age_groups(x):\n",
    "    #Recem nascido\n",
    "    if 0 <= x <= 5:\n",
    "        x = '0 - 5'\n",
    "    #crianças\n",
    "    elif 6 <= x <= 15:\n",
    "        x = '6 - 15'\n",
    "    #Adolescente e jovens adultos\n",
    "    elif 16 <= x <= 25:\n",
    "        x = '16 - 25'\n",
    "    #Adultos\n",
    "    elif 26 <= x <= 40:\n",
    "        x = '26 - 40'\n",
    "    #Meia idade\n",
    "    elif 41 <= x <= 60:\n",
    "        x = '41 - 60'\n",
    "    #Idosos\n",
    "    elif 61 <= x <= 80:\n",
    "        x = '61 - 80'\n",
    "    #idosos com mais de 80 anos\n",
    "    else:\n",
    "        x = '>80'\n",
    "    \n",
    "    return x\n",
    "df['age_group'] = df['idade']\n",
    "df['age_group'] = df['age_group'].apply(creating_age_groups)"
   ]
  },
  {
   "cell_type": "code",
   "execution_count": 5,
   "metadata": {},
   "outputs": [
    {
     "data": {
      "text/html": [
       "<div>\n",
       "<style scoped>\n",
       "    .dataframe tbody tr th:only-of-type {\n",
       "        vertical-align: middle;\n",
       "    }\n",
       "\n",
       "    .dataframe tbody tr th {\n",
       "        vertical-align: top;\n",
       "    }\n",
       "\n",
       "    .dataframe thead th {\n",
       "        text-align: right;\n",
       "    }\n",
       "</style>\n",
       "<table border=\"1\" class=\"dataframe\">\n",
       "  <thead>\n",
       "    <tr style=\"text-align: right;\">\n",
       "      <th></th>\n",
       "      <th>SYMPTOM_COUGH</th>\n",
       "      <th>SYMPTOM_COLD</th>\n",
       "      <th>SYMPTOM_AIR_INSUFFICIENCY</th>\n",
       "      <th>SYMPTOM_FEVER</th>\n",
       "      <th>SYMPTOM_LOW_OXYGEN_SATURATION</th>\n",
       "      <th>SYMPTOM_BREATHING_CONDITION</th>\n",
       "      <th>SYMPTOM_TORACIC_APERTURE</th>\n",
       "      <th>SYMPTOM_THROAT_CONDITION</th>\n",
       "      <th>SYMPTOM_HEADACHE</th>\n",
       "      <th>SYMPTOM_BODY_PAIN</th>\n",
       "      <th>...</th>\n",
       "      <th>SYMPTOM_CONSCIOUSNESS_DEGRADATION</th>\n",
       "      <th>death</th>\n",
       "      <th>idade</th>\n",
       "      <th>age_group_0 - 5</th>\n",
       "      <th>age_group_16 - 25</th>\n",
       "      <th>age_group_26 - 40</th>\n",
       "      <th>age_group_41 - 60</th>\n",
       "      <th>age_group_6 - 15</th>\n",
       "      <th>age_group_61 - 80</th>\n",
       "      <th>age_group_&gt;80</th>\n",
       "    </tr>\n",
       "  </thead>\n",
       "  <tbody>\n",
       "    <tr>\n",
       "      <th>0</th>\n",
       "      <td>1</td>\n",
       "      <td>0</td>\n",
       "      <td>0</td>\n",
       "      <td>1</td>\n",
       "      <td>0</td>\n",
       "      <td>0</td>\n",
       "      <td>0</td>\n",
       "      <td>0</td>\n",
       "      <td>0</td>\n",
       "      <td>1</td>\n",
       "      <td>...</td>\n",
       "      <td>0</td>\n",
       "      <td>0</td>\n",
       "      <td>53</td>\n",
       "      <td>0</td>\n",
       "      <td>0</td>\n",
       "      <td>0</td>\n",
       "      <td>1</td>\n",
       "      <td>0</td>\n",
       "      <td>0</td>\n",
       "      <td>0</td>\n",
       "    </tr>\n",
       "    <tr>\n",
       "      <th>1</th>\n",
       "      <td>1</td>\n",
       "      <td>0</td>\n",
       "      <td>1</td>\n",
       "      <td>1</td>\n",
       "      <td>0</td>\n",
       "      <td>0</td>\n",
       "      <td>0</td>\n",
       "      <td>0</td>\n",
       "      <td>0</td>\n",
       "      <td>0</td>\n",
       "      <td>...</td>\n",
       "      <td>0</td>\n",
       "      <td>0</td>\n",
       "      <td>0</td>\n",
       "      <td>1</td>\n",
       "      <td>0</td>\n",
       "      <td>0</td>\n",
       "      <td>0</td>\n",
       "      <td>0</td>\n",
       "      <td>0</td>\n",
       "      <td>0</td>\n",
       "    </tr>\n",
       "    <tr>\n",
       "      <th>2</th>\n",
       "      <td>0</td>\n",
       "      <td>0</td>\n",
       "      <td>1</td>\n",
       "      <td>0</td>\n",
       "      <td>0</td>\n",
       "      <td>0</td>\n",
       "      <td>0</td>\n",
       "      <td>0</td>\n",
       "      <td>0</td>\n",
       "      <td>0</td>\n",
       "      <td>...</td>\n",
       "      <td>0</td>\n",
       "      <td>0</td>\n",
       "      <td>86</td>\n",
       "      <td>0</td>\n",
       "      <td>0</td>\n",
       "      <td>0</td>\n",
       "      <td>0</td>\n",
       "      <td>0</td>\n",
       "      <td>0</td>\n",
       "      <td>1</td>\n",
       "    </tr>\n",
       "    <tr>\n",
       "      <th>3</th>\n",
       "      <td>0</td>\n",
       "      <td>0</td>\n",
       "      <td>0</td>\n",
       "      <td>0</td>\n",
       "      <td>0</td>\n",
       "      <td>0</td>\n",
       "      <td>0</td>\n",
       "      <td>0</td>\n",
       "      <td>0</td>\n",
       "      <td>0</td>\n",
       "      <td>...</td>\n",
       "      <td>0</td>\n",
       "      <td>0</td>\n",
       "      <td>66</td>\n",
       "      <td>0</td>\n",
       "      <td>0</td>\n",
       "      <td>0</td>\n",
       "      <td>0</td>\n",
       "      <td>0</td>\n",
       "      <td>1</td>\n",
       "      <td>0</td>\n",
       "    </tr>\n",
       "    <tr>\n",
       "      <th>4</th>\n",
       "      <td>1</td>\n",
       "      <td>0</td>\n",
       "      <td>1</td>\n",
       "      <td>0</td>\n",
       "      <td>0</td>\n",
       "      <td>0</td>\n",
       "      <td>0</td>\n",
       "      <td>0</td>\n",
       "      <td>0</td>\n",
       "      <td>0</td>\n",
       "      <td>...</td>\n",
       "      <td>0</td>\n",
       "      <td>0</td>\n",
       "      <td>68</td>\n",
       "      <td>0</td>\n",
       "      <td>0</td>\n",
       "      <td>0</td>\n",
       "      <td>0</td>\n",
       "      <td>0</td>\n",
       "      <td>1</td>\n",
       "      <td>0</td>\n",
       "    </tr>\n",
       "    <tr>\n",
       "      <th>...</th>\n",
       "      <td>...</td>\n",
       "      <td>...</td>\n",
       "      <td>...</td>\n",
       "      <td>...</td>\n",
       "      <td>...</td>\n",
       "      <td>...</td>\n",
       "      <td>...</td>\n",
       "      <td>...</td>\n",
       "      <td>...</td>\n",
       "      <td>...</td>\n",
       "      <td>...</td>\n",
       "      <td>...</td>\n",
       "      <td>...</td>\n",
       "      <td>...</td>\n",
       "      <td>...</td>\n",
       "      <td>...</td>\n",
       "      <td>...</td>\n",
       "      <td>...</td>\n",
       "      <td>...</td>\n",
       "      <td>...</td>\n",
       "      <td>...</td>\n",
       "    </tr>\n",
       "    <tr>\n",
       "      <th>36430</th>\n",
       "      <td>0</td>\n",
       "      <td>0</td>\n",
       "      <td>1</td>\n",
       "      <td>0</td>\n",
       "      <td>0</td>\n",
       "      <td>0</td>\n",
       "      <td>0</td>\n",
       "      <td>0</td>\n",
       "      <td>0</td>\n",
       "      <td>0</td>\n",
       "      <td>...</td>\n",
       "      <td>0</td>\n",
       "      <td>0</td>\n",
       "      <td>77</td>\n",
       "      <td>0</td>\n",
       "      <td>0</td>\n",
       "      <td>0</td>\n",
       "      <td>0</td>\n",
       "      <td>0</td>\n",
       "      <td>1</td>\n",
       "      <td>0</td>\n",
       "    </tr>\n",
       "    <tr>\n",
       "      <th>36431</th>\n",
       "      <td>1</td>\n",
       "      <td>0</td>\n",
       "      <td>0</td>\n",
       "      <td>0</td>\n",
       "      <td>0</td>\n",
       "      <td>0</td>\n",
       "      <td>0</td>\n",
       "      <td>0</td>\n",
       "      <td>0</td>\n",
       "      <td>0</td>\n",
       "      <td>...</td>\n",
       "      <td>0</td>\n",
       "      <td>0</td>\n",
       "      <td>74</td>\n",
       "      <td>0</td>\n",
       "      <td>0</td>\n",
       "      <td>0</td>\n",
       "      <td>0</td>\n",
       "      <td>0</td>\n",
       "      <td>1</td>\n",
       "      <td>0</td>\n",
       "    </tr>\n",
       "    <tr>\n",
       "      <th>36432</th>\n",
       "      <td>1</td>\n",
       "      <td>0</td>\n",
       "      <td>1</td>\n",
       "      <td>1</td>\n",
       "      <td>0</td>\n",
       "      <td>0</td>\n",
       "      <td>0</td>\n",
       "      <td>0</td>\n",
       "      <td>0</td>\n",
       "      <td>0</td>\n",
       "      <td>...</td>\n",
       "      <td>0</td>\n",
       "      <td>0</td>\n",
       "      <td>74</td>\n",
       "      <td>0</td>\n",
       "      <td>0</td>\n",
       "      <td>0</td>\n",
       "      <td>0</td>\n",
       "      <td>0</td>\n",
       "      <td>1</td>\n",
       "      <td>0</td>\n",
       "    </tr>\n",
       "    <tr>\n",
       "      <th>36433</th>\n",
       "      <td>0</td>\n",
       "      <td>0</td>\n",
       "      <td>1</td>\n",
       "      <td>0</td>\n",
       "      <td>0</td>\n",
       "      <td>0</td>\n",
       "      <td>0</td>\n",
       "      <td>0</td>\n",
       "      <td>0</td>\n",
       "      <td>0</td>\n",
       "      <td>...</td>\n",
       "      <td>0</td>\n",
       "      <td>0</td>\n",
       "      <td>73</td>\n",
       "      <td>0</td>\n",
       "      <td>0</td>\n",
       "      <td>0</td>\n",
       "      <td>0</td>\n",
       "      <td>0</td>\n",
       "      <td>1</td>\n",
       "      <td>0</td>\n",
       "    </tr>\n",
       "    <tr>\n",
       "      <th>36434</th>\n",
       "      <td>1</td>\n",
       "      <td>0</td>\n",
       "      <td>1</td>\n",
       "      <td>0</td>\n",
       "      <td>0</td>\n",
       "      <td>0</td>\n",
       "      <td>0</td>\n",
       "      <td>0</td>\n",
       "      <td>0</td>\n",
       "      <td>0</td>\n",
       "      <td>...</td>\n",
       "      <td>1</td>\n",
       "      <td>0</td>\n",
       "      <td>66</td>\n",
       "      <td>0</td>\n",
       "      <td>0</td>\n",
       "      <td>0</td>\n",
       "      <td>0</td>\n",
       "      <td>0</td>\n",
       "      <td>1</td>\n",
       "      <td>0</td>\n",
       "    </tr>\n",
       "  </tbody>\n",
       "</table>\n",
       "<p>36435 rows × 28 columns</p>\n",
       "</div>"
      ],
      "text/plain": [
       "       SYMPTOM_COUGH  SYMPTOM_COLD  SYMPTOM_AIR_INSUFFICIENCY  SYMPTOM_FEVER  \\\n",
       "0                  1             0                          0              1   \n",
       "1                  1             0                          1              1   \n",
       "2                  0             0                          1              0   \n",
       "3                  0             0                          0              0   \n",
       "4                  1             0                          1              0   \n",
       "...              ...           ...                        ...            ...   \n",
       "36430              0             0                          1              0   \n",
       "36431              1             0                          0              0   \n",
       "36432              1             0                          1              1   \n",
       "36433              0             0                          1              0   \n",
       "36434              1             0                          1              0   \n",
       "\n",
       "       SYMPTOM_LOW_OXYGEN_SATURATION  SYMPTOM_BREATHING_CONDITION  \\\n",
       "0                                  0                            0   \n",
       "1                                  0                            0   \n",
       "2                                  0                            0   \n",
       "3                                  0                            0   \n",
       "4                                  0                            0   \n",
       "...                              ...                          ...   \n",
       "36430                              0                            0   \n",
       "36431                              0                            0   \n",
       "36432                              0                            0   \n",
       "36433                              0                            0   \n",
       "36434                              0                            0   \n",
       "\n",
       "       SYMPTOM_TORACIC_APERTURE  SYMPTOM_THROAT_CONDITION  SYMPTOM_HEADACHE  \\\n",
       "0                             0                         0                 0   \n",
       "1                             0                         0                 0   \n",
       "2                             0                         0                 0   \n",
       "3                             0                         0                 0   \n",
       "4                             0                         0                 0   \n",
       "...                         ...                       ...               ...   \n",
       "36430                         0                         0                 0   \n",
       "36431                         0                         0                 0   \n",
       "36432                         0                         0                 0   \n",
       "36433                         0                         0                 0   \n",
       "36434                         0                         0                 0   \n",
       "\n",
       "       SYMPTOM_BODY_PAIN  ...  SYMPTOM_CONSCIOUSNESS_DEGRADATION  death  \\\n",
       "0                      1  ...                                  0      0   \n",
       "1                      0  ...                                  0      0   \n",
       "2                      0  ...                                  0      0   \n",
       "3                      0  ...                                  0      0   \n",
       "4                      0  ...                                  0      0   \n",
       "...                  ...  ...                                ...    ...   \n",
       "36430                  0  ...                                  0      0   \n",
       "36431                  0  ...                                  0      0   \n",
       "36432                  0  ...                                  0      0   \n",
       "36433                  0  ...                                  0      0   \n",
       "36434                  0  ...                                  1      0   \n",
       "\n",
       "       idade  age_group_0 - 5  age_group_16 - 25  age_group_26 - 40  \\\n",
       "0         53                0                  0                  0   \n",
       "1          0                1                  0                  0   \n",
       "2         86                0                  0                  0   \n",
       "3         66                0                  0                  0   \n",
       "4         68                0                  0                  0   \n",
       "...      ...              ...                ...                ...   \n",
       "36430     77                0                  0                  0   \n",
       "36431     74                0                  0                  0   \n",
       "36432     74                0                  0                  0   \n",
       "36433     73                0                  0                  0   \n",
       "36434     66                0                  0                  0   \n",
       "\n",
       "       age_group_41 - 60  age_group_6 - 15  age_group_61 - 80  age_group_>80  \n",
       "0                      1                 0                  0              0  \n",
       "1                      0                 0                  0              0  \n",
       "2                      0                 0                  0              1  \n",
       "3                      0                 0                  1              0  \n",
       "4                      0                 0                  1              0  \n",
       "...                  ...               ...                ...            ...  \n",
       "36430                  0                 0                  1              0  \n",
       "36431                  0                 0                  1              0  \n",
       "36432                  0                 0                  1              0  \n",
       "36433                  0                 0                  1              0  \n",
       "36434                  0                 0                  1              0  \n",
       "\n",
       "[36435 rows x 28 columns]"
      ]
     },
     "execution_count": 5,
     "metadata": {},
     "output_type": "execute_result"
    }
   ],
   "source": [
    "data = pd.get_dummies(df, columns = ['age_group'])\n",
    "data"
   ]
  },
  {
   "cell_type": "code",
   "execution_count": 6,
   "metadata": {},
   "outputs": [
    {
     "data": {
      "text/html": [
       "<div>\n",
       "<style scoped>\n",
       "    .dataframe tbody tr th:only-of-type {\n",
       "        vertical-align: middle;\n",
       "    }\n",
       "\n",
       "    .dataframe tbody tr th {\n",
       "        vertical-align: top;\n",
       "    }\n",
       "\n",
       "    .dataframe thead th {\n",
       "        text-align: right;\n",
       "    }\n",
       "</style>\n",
       "<table border=\"1\" class=\"dataframe\">\n",
       "  <thead>\n",
       "    <tr style=\"text-align: right;\">\n",
       "      <th></th>\n",
       "      <th>Sintoma</th>\n",
       "      <th>Count</th>\n",
       "      <th>percentage</th>\n",
       "    </tr>\n",
       "  </thead>\n",
       "  <tbody>\n",
       "    <tr>\n",
       "      <th>0</th>\n",
       "      <td>SYMPTOM_COUGH</td>\n",
       "      <td>26442</td>\n",
       "      <td>72.573075</td>\n",
       "    </tr>\n",
       "    <tr>\n",
       "      <th>1</th>\n",
       "      <td>SYMPTOM_COLD</td>\n",
       "      <td>86</td>\n",
       "      <td>0.236037</td>\n",
       "    </tr>\n",
       "    <tr>\n",
       "      <th>2</th>\n",
       "      <td>SYMPTOM_AIR_INSUFFICIENCY</td>\n",
       "      <td>24569</td>\n",
       "      <td>67.432414</td>\n",
       "    </tr>\n",
       "    <tr>\n",
       "      <th>3</th>\n",
       "      <td>SYMPTOM_FEVER</td>\n",
       "      <td>22759</td>\n",
       "      <td>62.464663</td>\n",
       "    </tr>\n",
       "    <tr>\n",
       "      <th>4</th>\n",
       "      <td>SYMPTOM_LOW_OXYGEN_SATURATION</td>\n",
       "      <td>1</td>\n",
       "      <td>0.002745</td>\n",
       "    </tr>\n",
       "    <tr>\n",
       "      <th>5</th>\n",
       "      <td>SYMPTOM_BREATHING_CONDITION</td>\n",
       "      <td>263</td>\n",
       "      <td>0.721833</td>\n",
       "    </tr>\n",
       "    <tr>\n",
       "      <th>6</th>\n",
       "      <td>SYMPTOM_TORACIC_APERTURE</td>\n",
       "      <td>196</td>\n",
       "      <td>0.537944</td>\n",
       "    </tr>\n",
       "    <tr>\n",
       "      <th>7</th>\n",
       "      <td>SYMPTOM_THROAT_CONDITION</td>\n",
       "      <td>5602</td>\n",
       "      <td>15.375326</td>\n",
       "    </tr>\n",
       "    <tr>\n",
       "      <th>8</th>\n",
       "      <td>SYMPTOM_HEADACHE</td>\n",
       "      <td>4156</td>\n",
       "      <td>11.406615</td>\n",
       "    </tr>\n",
       "    <tr>\n",
       "      <th>9</th>\n",
       "      <td>SYMPTOM_BODY_PAIN</td>\n",
       "      <td>4384</td>\n",
       "      <td>12.032386</td>\n",
       "    </tr>\n",
       "    <tr>\n",
       "      <th>10</th>\n",
       "      <td>SYMPTOM_DIARRHEA</td>\n",
       "      <td>3218</td>\n",
       "      <td>8.832167</td>\n",
       "    </tr>\n",
       "    <tr>\n",
       "      <th>11</th>\n",
       "      <td>SYMPTOM_RUNNY_NOSE</td>\n",
       "      <td>3456</td>\n",
       "      <td>9.485385</td>\n",
       "    </tr>\n",
       "    <tr>\n",
       "      <th>12</th>\n",
       "      <td>SYMPTOM_NOSE_CONGESTION</td>\n",
       "      <td>5</td>\n",
       "      <td>0.013723</td>\n",
       "    </tr>\n",
       "    <tr>\n",
       "      <th>13</th>\n",
       "      <td>SYMPTOM_WEAKNESS</td>\n",
       "      <td>2089</td>\n",
       "      <td>5.733498</td>\n",
       "    </tr>\n",
       "    <tr>\n",
       "      <th>14</th>\n",
       "      <td>SYMPTOM_ANOSMIA_OR_HYPOSMIA</td>\n",
       "      <td>143</td>\n",
       "      <td>0.392480</td>\n",
       "    </tr>\n",
       "    <tr>\n",
       "      <th>15</th>\n",
       "      <td>SYMPTOM_NAUSEA</td>\n",
       "      <td>133</td>\n",
       "      <td>0.365034</td>\n",
       "    </tr>\n",
       "    <tr>\n",
       "      <th>16</th>\n",
       "      <td>SYMPTOM_LACK_OF_APPETITE</td>\n",
       "      <td>258</td>\n",
       "      <td>0.708110</td>\n",
       "    </tr>\n",
       "    <tr>\n",
       "      <th>17</th>\n",
       "      <td>SYMPTOM_ABDOMINAL_PAIN</td>\n",
       "      <td>480</td>\n",
       "      <td>1.317415</td>\n",
       "    </tr>\n",
       "    <tr>\n",
       "      <th>18</th>\n",
       "      <td>SYMPTOM_CONSCIOUSNESS_DEGRADATION</td>\n",
       "      <td>315</td>\n",
       "      <td>0.864553</td>\n",
       "    </tr>\n",
       "  </tbody>\n",
       "</table>\n",
       "</div>"
      ],
      "text/plain": [
       "                              Sintoma  Count  percentage\n",
       "0                       SYMPTOM_COUGH  26442   72.573075\n",
       "1                        SYMPTOM_COLD     86    0.236037\n",
       "2           SYMPTOM_AIR_INSUFFICIENCY  24569   67.432414\n",
       "3                       SYMPTOM_FEVER  22759   62.464663\n",
       "4       SYMPTOM_LOW_OXYGEN_SATURATION      1    0.002745\n",
       "5         SYMPTOM_BREATHING_CONDITION    263    0.721833\n",
       "6            SYMPTOM_TORACIC_APERTURE    196    0.537944\n",
       "7            SYMPTOM_THROAT_CONDITION   5602   15.375326\n",
       "8                    SYMPTOM_HEADACHE   4156   11.406615\n",
       "9                   SYMPTOM_BODY_PAIN   4384   12.032386\n",
       "10                   SYMPTOM_DIARRHEA   3218    8.832167\n",
       "11                 SYMPTOM_RUNNY_NOSE   3456    9.485385\n",
       "12            SYMPTOM_NOSE_CONGESTION      5    0.013723\n",
       "13                   SYMPTOM_WEAKNESS   2089    5.733498\n",
       "14        SYMPTOM_ANOSMIA_OR_HYPOSMIA    143    0.392480\n",
       "15                     SYMPTOM_NAUSEA    133    0.365034\n",
       "16           SYMPTOM_LACK_OF_APPETITE    258    0.708110\n",
       "17             SYMPTOM_ABDOMINAL_PAIN    480    1.317415\n",
       "18  SYMPTOM_CONSCIOUSNESS_DEGRADATION    315    0.864553"
      ]
     },
     "execution_count": 6,
     "metadata": {},
     "output_type": "execute_result"
    }
   ],
   "source": [
    "list_symptoms =[\"SYMPTOM_COUGH\",'SYMPTOM_COLD','SYMPTOM_AIR_INSUFFICIENCY','SYMPTOM_FEVER','SYMPTOM_LOW_OXYGEN_SATURATION','SYMPTOM_BREATHING_CONDITION','SYMPTOM_TORACIC_APERTURE','SYMPTOM_THROAT_CONDITION',\n",
    "                'SYMPTOM_HEADACHE','SYMPTOM_BODY_PAIN','SYMPTOM_DIARRHEA','SYMPTOM_RUNNY_NOSE','SYMPTOM_NOSE_CONGESTION','SYMPTOM_WEAKNESS','SYMPTOM_ANOSMIA_OR_HYPOSMIA','SYMPTOM_NAUSEA','SYMPTOM_LACK_OF_APPETITE',\n",
    "                'SYMPTOM_ABDOMINAL_PAIN','SYMPTOM_CONSCIOUSNESS_DEGRADATION']\n",
    "                \n",
    "def creating_data_symptoms(df):\n",
    "    count_symptoms = []\n",
    "    perc_list = []\n",
    "\n",
    "    for symptom in list_symptoms: \n",
    "        count = len(df[df[symptom] == 1])\n",
    "        perc = (count/len(df))*100\n",
    "        \n",
    "        perc_list.append(perc)\n",
    "        count_symptoms.append(count)\n",
    "    \n",
    "    df2 = pd.DataFrame(list_symptoms,columns=[\"Sintoma\"])\n",
    "    df2[\"Count\"] = count_symptoms\n",
    "    df2['percentage'] = perc_list\n",
    "\n",
    "    return(df2)\n",
    "\n",
    "df2 = creating_data_symptoms(data)\n",
    "df2"
   ]
  },
  {
   "cell_type": "code",
   "execution_count": 7,
   "metadata": {},
   "outputs": [
    {
     "data": {
      "text/plain": [
       "<AxesSubplot:xlabel='Count', ylabel='Sintoma'>"
      ]
     },
     "execution_count": 7,
     "metadata": {},
     "output_type": "execute_result"
    },
    {
     "data": {
      "image/png": "[encoded data removed]",
      "text/plain": [
       "<Figure size 432x288 with 1 Axes>"
      ]
     },
     "metadata": {
      "needs_background": "light"
     },
     "output_type": "display_data"
    }
   ],
   "source": [
    "sns.barplot(data = df2.sort_values('Count', ascending=False), y=\"Sintoma\", x=\"Count\")"
   ]
  },
  {
   "cell_type": "code",
   "execution_count": 8,
   "metadata": {},
   "outputs": [],
   "source": [
    "def barplot(x_axis):\n",
    "    print('-'*40)\n",
    "    print(df.groupby(x_axis).death.value_counts())\n",
    "    sns.barplot(x = x_axis, y ='death', ci = None, data = df)\n",
    "    plt.title(x_axis)\n",
    "    plt.show()"
   ]
  },
  {
   "cell_type": "code",
   "execution_count": 9,
   "metadata": {},
   "outputs": [
    {
     "name": "stdout",
     "output_type": "stream",
     "text": [
      "----------------------------------------\n",
      "SYMPTOM_COUGH  death\n",
      "0              0         6770\n",
      "               1         3223\n",
      "1              0        20321\n",
      "               1         6121\n",
      "Name: death, dtype: int64\n"
     ]
    },
    {
     "data": {
      "image/png": "[encoded data removed]",
      "text/plain": [
       "<Figure size 432x288 with 1 Axes>"
      ]
     },
     "metadata": {
      "needs_background": "light"
     },
     "output_type": "display_data"
    },
    {
     "name": "stdout",
     "output_type": "stream",
     "text": [
      "----------------------------------------\n",
      "SYMPTOM_AIR_INSUFFICIENCY  death\n",
      "0                          0        10032\n",
      "                           1         1834\n",
      "1                          0        17059\n",
      "                           1         7510\n",
      "Name: death, dtype: int64\n"
     ]
    },
    {
     "data": {
      "image/png": "[encoded data removed]",
      "text/plain": [
       "<Figure size 432x288 with 1 Axes>"
      ]
     },
     "metadata": {
      "needs_background": "light"
     },
     "output_type": "display_data"
    },
    {
     "name": "stdout",
     "output_type": "stream",
     "text": [
      "----------------------------------------\n",
      "SYMPTOM_FEVER  death\n",
      "0              0         9704\n",
      "               1         3972\n",
      "1              0        17387\n",
      "               1         5372\n",
      "Name: death, dtype: int64\n"
     ]
    },
    {
     "data": {
      "image/png": "[encoded data removed]",
      "text/plain": [
       "<Figure size 432x288 with 1 Axes>"
      ]
     },
     "metadata": {
      "needs_background": "light"
     },
     "output_type": "display_data"
    },
    {
     "name": "stdout",
     "output_type": "stream",
     "text": [
      "----------------------------------------\n",
      "SYMPTOM_COLD  death\n",
      "0             0        27022\n",
      "              1         9327\n",
      "1             0           69\n",
      "              1           17\n",
      "Name: death, dtype: int64\n"
     ]
    },
    {
     "data": {
      "image/png": "[encoded data removed]",
      "text/plain": [
       "<Figure size 432x288 with 1 Axes>"
      ]
     },
     "metadata": {
      "needs_background": "light"
     },
     "output_type": "display_data"
    },
    {
     "name": "stdout",
     "output_type": "stream",
     "text": [
      "----------------------------------------\n",
      "SYMPTOM_THROAT_CONDITION  death\n",
      "0                         0        22241\n",
      "                          1         8592\n",
      "1                         0         4850\n",
      "                          1          752\n",
      "Name: death, dtype: int64\n"
     ]
    },
    {
     "data": {
      "image/png": "[encoded data removed]",
      "text/plain": [
       "<Figure size 432x288 with 1 Axes>"
      ]
     },
     "metadata": {
      "needs_background": "light"
     },
     "output_type": "display_data"
    },
    {
     "name": "stdout",
     "output_type": "stream",
     "text": [
      "----------------------------------------\n",
      "SYMPTOM_RUNNY_NOSE  death\n",
      "0                   0        24092\n",
      "                    1         8887\n",
      "1                   0         2999\n",
      "                    1          457\n",
      "Name: death, dtype: int64\n"
     ]
    },
    {
     "data": {
      "image/png": "[encoded data removed]",
      "text/plain": [
       "<Figure size 432x288 with 1 Axes>"
      ]
     },
     "metadata": {
      "needs_background": "light"
     },
     "output_type": "display_data"
    },
    {
     "name": "stdout",
     "output_type": "stream",
     "text": [
      "----------------------------------------\n",
      "SYMPTOM_WEAKNESS  death\n",
      "0                 0        25596\n",
      "                  1         8750\n",
      "1                 0         1495\n",
      "                  1          594\n",
      "Name: death, dtype: int64\n"
     ]
    },
    {
     "data": {
      "image/png": "[encoded data removed]",
      "text/plain": [
       "<Figure size 432x288 with 1 Axes>"
      ]
     },
     "metadata": {
      "needs_background": "light"
     },
     "output_type": "display_data"
    },
    {
     "name": "stdout",
     "output_type": "stream",
     "text": [
      "----------------------------------------\n",
      "SYMPTOM_BODY_PAIN  death\n",
      "0                  0        23731\n",
      "                   1         8320\n",
      "1                  0         3360\n",
      "                   1         1024\n",
      "Name: death, dtype: int64\n"
     ]
    },
    {
     "data": {
      "image/png": "[encoded data removed]",
      "text/plain": [
       "<Figure size 432x288 with 1 Axes>"
      ]
     },
     "metadata": {
      "needs_background": "light"
     },
     "output_type": "display_data"
    },
    {
     "name": "stdout",
     "output_type": "stream",
     "text": [
      "----------------------------------------\n",
      "SYMPTOM_HEADACHE  death\n",
      "0                 0        23557\n",
      "                  1         8722\n",
      "1                 0         3534\n",
      "                  1          622\n",
      "Name: death, dtype: int64\n"
     ]
    },
    {
     "data": {
      "image/png": "[encoded data removed]",
      "text/plain": [
       "<Figure size 432x288 with 1 Axes>"
      ]
     },
     "metadata": {
      "needs_background": "light"
     },
     "output_type": "display_data"
    }
   ],
   "source": [
    "barplot('SYMPTOM_COUGH')\n",
    "barplot('SYMPTOM_AIR_INSUFFICIENCY')\n",
    "barplot('SYMPTOM_FEVER')\n",
    "barplot('SYMPTOM_COLD')\n",
    "barplot('SYMPTOM_THROAT_CONDITION')\n",
    "barplot('SYMPTOM_RUNNY_NOSE')\n",
    "barplot('SYMPTOM_WEAKNESS')\n",
    "barplot('SYMPTOM_BODY_PAIN')\n",
    "barplot('SYMPTOM_HEADACHE')"
   ]
  },
  {
   "cell_type": "code",
   "execution_count": 10,
   "metadata": {},
   "outputs": [
    {
     "name": "stderr",
     "output_type": "stream",
     "text": [
      "C:\\Users\\gabri\\AppData\\Local\\Packages\\PythonSoftwareFoundation.Python.3.9_qbz5n2kfra8p0\\LocalCache\\local-packages\\Python39\\site-packages\\seaborn\\distributions.py:2619: FutureWarning: `distplot` is a deprecated function and will be removed in a future version. Please adapt your code to use either `displot` (a figure-level function with similar flexibility) or `histplot` (an axes-level function for histograms).\n",
      "  warnings.warn(msg, FutureWarning)\n"
     ]
    },
    {
     "data": {
      "text/plain": [
       "<matplotlib.legend.Legend at 0x21fd55a71f0>"
      ]
     },
     "execution_count": 10,
     "metadata": {},
     "output_type": "execute_result"
    },
    {
     "data": {
      "image/png": "[encoded data removed]",
      "text/plain": [
       "<Figure size 1080x360 with 1 Axes>"
      ]
     },
     "metadata": {
      "needs_background": "light"
     },
     "output_type": "display_data"
    }
   ],
   "source": [
    "total_survived = df[df['death'] == 0]\n",
    "total_not_survived = df[df['death'] == 1]\n",
    "\n",
    "plt.figure(figsize=[15,5])\n",
    "plt.subplot(111)\n",
    "sns.distplot(total_survived['idade'].dropna().values, kde=False, color='blue', label='Survived')\n",
    "sns.distplot(total_not_survived['idade'].dropna().values, kde=False, color='red', axlabel='Age', label='Not Survived')\n",
    "plt.legend()"
   ]
  },
  {
   "cell_type": "code",
   "execution_count": 14,
   "metadata": {},
   "outputs": [
    {
     "name": "stderr",
     "output_type": "stream",
     "text": [
      "C:\\Users\\gabri\\AppData\\Local\\Packages\\PythonSoftwareFoundation.Python.3.9_qbz5n2kfra8p0\\LocalCache\\local-packages\\Python39\\site-packages\\mlxtend\\frequent_patterns\\fpcommon.py:111: DeprecationWarning: DataFrames with non-bool types result in worse computationalperformance and their support might be discontinued in the future.Please use a DataFrame with bool type\n",
      "  warnings.warn(\n",
      "C:\\Users\\gabri\\AppData\\Local\\Packages\\PythonSoftwareFoundation.Python.3.9_qbz5n2kfra8p0\\LocalCache\\local-packages\\Python39\\site-packages\\mlxtend\\frequent_patterns\\fpcommon.py:111: DeprecationWarning: DataFrames with non-bool types result in worse computationalperformance and their support might be discontinued in the future.Please use a DataFrame with bool type\n",
      "  warnings.warn(\n"
     ]
    }
   ],
   "source": [
    "frequent_itemsets1 = apriori(df[list_symptoms], min_support=0.1, use_colnames=True)\n",
    "rules1 = association_rules(frequent_itemsets1, metric=\"lift\", min_threshold=1)\n",
    "\n",
    "frequent_itemsets2 = apriori(df[df['death'] == 1][list_symptoms], min_support=0.1, use_colnames=True)\n",
    "rules2 = association_rules(frequent_itemsets2, metric=\"lift\", min_threshold=1)"
   ]
  },
  {
   "cell_type": "code",
   "execution_count": 15,
   "metadata": {},
   "outputs": [
    {
     "data": {
      "text/html": [
       "<div>\n",
       "<style scoped>\n",
       "    .dataframe tbody tr th:only-of-type {\n",
       "        vertical-align: middle;\n",
       "    }\n",
       "\n",
       "    .dataframe tbody tr th {\n",
       "        vertical-align: top;\n",
       "    }\n",
       "\n",
       "    .dataframe thead th {\n",
       "        text-align: right;\n",
       "    }\n",
       "</style>\n",
       "<table border=\"1\" class=\"dataframe\">\n",
       "  <thead>\n",
       "    <tr style=\"text-align: right;\">\n",
       "      <th></th>\n",
       "      <th>antecedents</th>\n",
       "      <th>consequents</th>\n",
       "      <th>antecedent support</th>\n",
       "      <th>consequent support</th>\n",
       "      <th>support</th>\n",
       "      <th>confidence</th>\n",
       "      <th>lift</th>\n",
       "      <th>leverage</th>\n",
       "      <th>conviction</th>\n",
       "    </tr>\n",
       "  </thead>\n",
       "  <tbody>\n",
       "    <tr>\n",
       "      <th>11</th>\n",
       "      <td>(SYMPTOM_AIR_INSUFFICIENCY, SYMPTOM_FEVER)</td>\n",
       "      <td>(SYMPTOM_COUGH)</td>\n",
       "      <td>0.445451</td>\n",
       "      <td>0.725731</td>\n",
       "      <td>0.388363</td>\n",
       "      <td>0.871842</td>\n",
       "      <td>1.201330</td>\n",
       "      <td>0.065085</td>\n",
       "      <td>2.140091</td>\n",
       "    </tr>\n",
       "    <tr>\n",
       "      <th>3</th>\n",
       "      <td>(SYMPTOM_FEVER)</td>\n",
       "      <td>(SYMPTOM_COUGH)</td>\n",
       "      <td>0.624647</td>\n",
       "      <td>0.725731</td>\n",
       "      <td>0.523206</td>\n",
       "      <td>0.837603</td>\n",
       "      <td>1.154151</td>\n",
       "      <td>0.069880</td>\n",
       "      <td>1.688878</td>\n",
       "    </tr>\n",
       "    <tr>\n",
       "      <th>4</th>\n",
       "      <td>(SYMPTOM_THROAT_CONDITION)</td>\n",
       "      <td>(SYMPTOM_COUGH)</td>\n",
       "      <td>0.153753</td>\n",
       "      <td>0.725731</td>\n",
       "      <td>0.126197</td>\n",
       "      <td>0.820778</td>\n",
       "      <td>1.130968</td>\n",
       "      <td>0.014614</td>\n",
       "      <td>1.530335</td>\n",
       "    </tr>\n",
       "  </tbody>\n",
       "</table>\n",
       "</div>"
      ],
      "text/plain": [
       "                                   antecedents      consequents  \\\n",
       "11  (SYMPTOM_AIR_INSUFFICIENCY, SYMPTOM_FEVER)  (SYMPTOM_COUGH)   \n",
       "3                              (SYMPTOM_FEVER)  (SYMPTOM_COUGH)   \n",
       "4                   (SYMPTOM_THROAT_CONDITION)  (SYMPTOM_COUGH)   \n",
       "\n",
       "    antecedent support  consequent support   support  confidence      lift  \\\n",
       "11            0.445451            0.725731  0.388363    0.871842  1.201330   \n",
       "3             0.624647            0.725731  0.523206    0.837603  1.154151   \n",
       "4             0.153753            0.725731  0.126197    0.820778  1.130968   \n",
       "\n",
       "    leverage  conviction  \n",
       "11  0.065085    2.140091  \n",
       "3   0.069880    1.688878  \n",
       "4   0.014614    1.530335  "
      ]
     },
     "execution_count": 15,
     "metadata": {},
     "output_type": "execute_result"
    }
   ],
   "source": [
    "rules1[(rules1['confidence'] >= 0.8)].sort_values('lift', ascending=False)"
   ]
  },
  {
   "cell_type": "code",
   "execution_count": 16,
   "metadata": {},
   "outputs": [
    {
     "data": {
      "text/html": [
       "<div>\n",
       "<style scoped>\n",
       "    .dataframe tbody tr th:only-of-type {\n",
       "        vertical-align: middle;\n",
       "    }\n",
       "\n",
       "    .dataframe tbody tr th {\n",
       "        vertical-align: top;\n",
       "    }\n",
       "\n",
       "    .dataframe thead th {\n",
       "        text-align: right;\n",
       "    }\n",
       "</style>\n",
       "<table border=\"1\" class=\"dataframe\">\n",
       "  <thead>\n",
       "    <tr style=\"text-align: right;\">\n",
       "      <th></th>\n",
       "      <th>antecedents</th>\n",
       "      <th>consequents</th>\n",
       "      <th>antecedent support</th>\n",
       "      <th>consequent support</th>\n",
       "      <th>support</th>\n",
       "      <th>confidence</th>\n",
       "      <th>lift</th>\n",
       "      <th>leverage</th>\n",
       "      <th>conviction</th>\n",
       "    </tr>\n",
       "  </thead>\n",
       "  <tbody>\n",
       "    <tr>\n",
       "      <th>7</th>\n",
       "      <td>(SYMPTOM_AIR_INSUFFICIENCY, SYMPTOM_FEVER)</td>\n",
       "      <td>(SYMPTOM_COUGH)</td>\n",
       "      <td>0.476670</td>\n",
       "      <td>0.655073</td>\n",
       "      <td>0.388271</td>\n",
       "      <td>0.814549</td>\n",
       "      <td>1.243448</td>\n",
       "      <td>0.076017</td>\n",
       "      <td>1.859934</td>\n",
       "    </tr>\n",
       "    <tr>\n",
       "      <th>3</th>\n",
       "      <td>(SYMPTOM_FEVER)</td>\n",
       "      <td>(SYMPTOM_COUGH)</td>\n",
       "      <td>0.574914</td>\n",
       "      <td>0.655073</td>\n",
       "      <td>0.460188</td>\n",
       "      <td>0.800447</td>\n",
       "      <td>1.221920</td>\n",
       "      <td>0.083578</td>\n",
       "      <td>1.728497</td>\n",
       "    </tr>\n",
       "    <tr>\n",
       "      <th>8</th>\n",
       "      <td>(SYMPTOM_COUGH, SYMPTOM_FEVER)</td>\n",
       "      <td>(SYMPTOM_AIR_INSUFFICIENCY)</td>\n",
       "      <td>0.460188</td>\n",
       "      <td>0.803724</td>\n",
       "      <td>0.388271</td>\n",
       "      <td>0.843721</td>\n",
       "      <td>1.049764</td>\n",
       "      <td>0.018406</td>\n",
       "      <td>1.255931</td>\n",
       "    </tr>\n",
       "    <tr>\n",
       "      <th>1</th>\n",
       "      <td>(SYMPTOM_COUGH)</td>\n",
       "      <td>(SYMPTOM_AIR_INSUFFICIENCY)</td>\n",
       "      <td>0.655073</td>\n",
       "      <td>0.803724</td>\n",
       "      <td>0.546768</td>\n",
       "      <td>0.834668</td>\n",
       "      <td>1.038500</td>\n",
       "      <td>0.020270</td>\n",
       "      <td>1.187158</td>\n",
       "    </tr>\n",
       "    <tr>\n",
       "      <th>5</th>\n",
       "      <td>(SYMPTOM_FEVER)</td>\n",
       "      <td>(SYMPTOM_AIR_INSUFFICIENCY)</td>\n",
       "      <td>0.574914</td>\n",
       "      <td>0.803724</td>\n",
       "      <td>0.476670</td>\n",
       "      <td>0.829114</td>\n",
       "      <td>1.031590</td>\n",
       "      <td>0.014597</td>\n",
       "      <td>1.148576</td>\n",
       "    </tr>\n",
       "  </tbody>\n",
       "</table>\n",
       "</div>"
      ],
      "text/plain": [
       "                                  antecedents                  consequents  \\\n",
       "7  (SYMPTOM_AIR_INSUFFICIENCY, SYMPTOM_FEVER)              (SYMPTOM_COUGH)   \n",
       "3                             (SYMPTOM_FEVER)              (SYMPTOM_COUGH)   \n",
       "8              (SYMPTOM_COUGH, SYMPTOM_FEVER)  (SYMPTOM_AIR_INSUFFICIENCY)   \n",
       "1                             (SYMPTOM_COUGH)  (SYMPTOM_AIR_INSUFFICIENCY)   \n",
       "5                             (SYMPTOM_FEVER)  (SYMPTOM_AIR_INSUFFICIENCY)   \n",
       "\n",
       "   antecedent support  consequent support   support  confidence      lift  \\\n",
       "7            0.476670            0.655073  0.388271    0.814549  1.243448   \n",
       "3            0.574914            0.655073  0.460188    0.800447  1.221920   \n",
       "8            0.460188            0.803724  0.388271    0.843721  1.049764   \n",
       "1            0.655073            0.803724  0.546768    0.834668  1.038500   \n",
       "5            0.574914            0.803724  0.476670    0.829114  1.031590   \n",
       "\n",
       "   leverage  conviction  \n",
       "7  0.076017    1.859934  \n",
       "3  0.083578    1.728497  \n",
       "8  0.018406    1.255931  \n",
       "1  0.020270    1.187158  \n",
       "5  0.014597    1.148576  "
      ]
     },
     "execution_count": 16,
     "metadata": {},
     "output_type": "execute_result"
    }
   ],
   "source": [
    "rules2[(rules2['confidence'] >= 0.8)].sort_values('lift', ascending=False)"
   ]
  }
 ],
 "metadata": {
  "kernelspec": {
   "display_name": "Python 3.9.13 64-bit (windows store)",
   "language": "python",
   "name": "python3"
  },
  "language_info": {
   "codemirror_mode": {
    "name": "ipython",
    "version": 3
   },
   "file_extension": ".py",
   "mimetype": "text/x-python",
   "name": "python",
   "nbconvert_exporter": "python",
   "pygments_lexer": "ipython3",
   "version": "3.9.13"
  },
  "orig_nbformat": 4,
  "vscode": {
   "interpreter": {
    "hash": "b7f22e608a9410c9a00adbb49e3cb6a72010c497ae6b30c9496ff58de178a89c"
   }
  }
 },
 "nbformat": 4,
 "nbformat_minor": 2
}
