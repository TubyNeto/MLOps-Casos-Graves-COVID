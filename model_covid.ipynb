{
 "cells": [
  {
   "cell_type": "markdown",
   "id": "eedd7198-d8f4-4dbc-8706-55c8648c39e9",
   "metadata": {},
   "source": [
    "# Imports"
   ]
  },
  {
   "cell_type": "code",
   "execution_count": 1,
   "id": "45c8159c-acd9-4260-919e-41512d1d1224",
   "metadata": {},
   "outputs": [],
   "source": [
    "import numpy as np\n",
    "import pandas as pd\n",
    "import matplotlib.pyplot as plt\n",
    "import seaborn as sns\n",
    "\n",
    "from sklearn.ensemble import RandomForestClassifier\n",
    "from sklearn.model_selection._search import GridSearchCV\n",
    "from sklearn.model_selection._split import StratifiedKFold\n",
    "from sklearn import svm\n"
   ]
  },
  {
   "cell_type": "markdown",
   "id": "d741e3bb-f6c2-4d28-974d-7afe5459500e",
   "metadata": {},
   "source": [
    "# Lendo arquivo"
   ]
  },
  {
   "cell_type": "code",
   "execution_count": 2,
   "id": "e12f36b0-6842-4d73-8a54-bd0a1a5cd2d9",
   "metadata": {},
   "outputs": [
    {
     "data": {
      "text/html": [
       "<div>\n",
       "<style scoped>\n",
       "    .dataframe tbody tr th:only-of-type {\n",
       "        vertical-align: middle;\n",
       "    }\n",
       "\n",
       "    .dataframe tbody tr th {\n",
       "        vertical-align: top;\n",
       "    }\n",
       "\n",
       "    .dataframe thead th {\n",
       "        text-align: right;\n",
       "    }\n",
       "</style>\n",
       "<table border=\"1\" class=\"dataframe\">\n",
       "  <thead>\n",
       "    <tr style=\"text-align: right;\">\n",
       "      <th></th>\n",
       "      <th>SYMPTOM_COUGH</th>\n",
       "      <th>SYMPTOM_COLD</th>\n",
       "      <th>SYMPTOM_AIR_INSUFFICIENCY</th>\n",
       "      <th>SYMPTOM_FEVER</th>\n",
       "      <th>SYMPTOM_LOW_OXYGEN_SATURATION</th>\n",
       "      <th>SYMPTOM_BREATHING_CONDITION</th>\n",
       "      <th>SYMPTOM_TORACIC_APERTURE</th>\n",
       "      <th>SYMPTOM_THROAT_CONDITION</th>\n",
       "      <th>SYMPTOM_HEADACHE</th>\n",
       "      <th>SYMPTOM_BODY_PAIN</th>\n",
       "      <th>...</th>\n",
       "      <th>SYMPTOM_RUNNY_NOSE</th>\n",
       "      <th>SYMPTOM_NOSE_CONGESTION</th>\n",
       "      <th>SYMPTOM_WEAKNESS</th>\n",
       "      <th>SYMPTOM_ANOSMIA_OR_HYPOSMIA</th>\n",
       "      <th>SYMPTOM_NAUSEA</th>\n",
       "      <th>SYMPTOM_LACK_OF_APPETITE</th>\n",
       "      <th>SYMPTOM_ABDOMINAL_PAIN</th>\n",
       "      <th>SYMPTOM_CONSCIOUSNESS_DEGRADATION</th>\n",
       "      <th>death</th>\n",
       "      <th>idade</th>\n",
       "    </tr>\n",
       "  </thead>\n",
       "  <tbody>\n",
       "    <tr>\n",
       "      <th>0</th>\n",
       "      <td>1</td>\n",
       "      <td>0</td>\n",
       "      <td>0</td>\n",
       "      <td>1</td>\n",
       "      <td>0</td>\n",
       "      <td>0</td>\n",
       "      <td>0</td>\n",
       "      <td>0</td>\n",
       "      <td>0</td>\n",
       "      <td>1</td>\n",
       "      <td>...</td>\n",
       "      <td>0</td>\n",
       "      <td>0</td>\n",
       "      <td>0</td>\n",
       "      <td>0</td>\n",
       "      <td>0</td>\n",
       "      <td>0</td>\n",
       "      <td>0</td>\n",
       "      <td>0</td>\n",
       "      <td>0</td>\n",
       "      <td>53</td>\n",
       "    </tr>\n",
       "    <tr>\n",
       "      <th>1</th>\n",
       "      <td>1</td>\n",
       "      <td>0</td>\n",
       "      <td>1</td>\n",
       "      <td>1</td>\n",
       "      <td>0</td>\n",
       "      <td>0</td>\n",
       "      <td>0</td>\n",
       "      <td>0</td>\n",
       "      <td>0</td>\n",
       "      <td>0</td>\n",
       "      <td>...</td>\n",
       "      <td>0</td>\n",
       "      <td>0</td>\n",
       "      <td>0</td>\n",
       "      <td>0</td>\n",
       "      <td>0</td>\n",
       "      <td>0</td>\n",
       "      <td>0</td>\n",
       "      <td>0</td>\n",
       "      <td>0</td>\n",
       "      <td>0</td>\n",
       "    </tr>\n",
       "    <tr>\n",
       "      <th>2</th>\n",
       "      <td>0</td>\n",
       "      <td>0</td>\n",
       "      <td>1</td>\n",
       "      <td>0</td>\n",
       "      <td>0</td>\n",
       "      <td>0</td>\n",
       "      <td>0</td>\n",
       "      <td>0</td>\n",
       "      <td>0</td>\n",
       "      <td>0</td>\n",
       "      <td>...</td>\n",
       "      <td>0</td>\n",
       "      <td>0</td>\n",
       "      <td>0</td>\n",
       "      <td>0</td>\n",
       "      <td>0</td>\n",
       "      <td>0</td>\n",
       "      <td>0</td>\n",
       "      <td>0</td>\n",
       "      <td>0</td>\n",
       "      <td>86</td>\n",
       "    </tr>\n",
       "    <tr>\n",
       "      <th>3</th>\n",
       "      <td>0</td>\n",
       "      <td>0</td>\n",
       "      <td>0</td>\n",
       "      <td>0</td>\n",
       "      <td>0</td>\n",
       "      <td>0</td>\n",
       "      <td>0</td>\n",
       "      <td>0</td>\n",
       "      <td>0</td>\n",
       "      <td>0</td>\n",
       "      <td>...</td>\n",
       "      <td>0</td>\n",
       "      <td>0</td>\n",
       "      <td>0</td>\n",
       "      <td>0</td>\n",
       "      <td>0</td>\n",
       "      <td>0</td>\n",
       "      <td>0</td>\n",
       "      <td>0</td>\n",
       "      <td>0</td>\n",
       "      <td>66</td>\n",
       "    </tr>\n",
       "    <tr>\n",
       "      <th>4</th>\n",
       "      <td>1</td>\n",
       "      <td>0</td>\n",
       "      <td>1</td>\n",
       "      <td>0</td>\n",
       "      <td>0</td>\n",
       "      <td>0</td>\n",
       "      <td>0</td>\n",
       "      <td>0</td>\n",
       "      <td>0</td>\n",
       "      <td>0</td>\n",
       "      <td>...</td>\n",
       "      <td>0</td>\n",
       "      <td>0</td>\n",
       "      <td>0</td>\n",
       "      <td>0</td>\n",
       "      <td>0</td>\n",
       "      <td>0</td>\n",
       "      <td>0</td>\n",
       "      <td>0</td>\n",
       "      <td>0</td>\n",
       "      <td>68</td>\n",
       "    </tr>\n",
       "    <tr>\n",
       "      <th>...</th>\n",
       "      <td>...</td>\n",
       "      <td>...</td>\n",
       "      <td>...</td>\n",
       "      <td>...</td>\n",
       "      <td>...</td>\n",
       "      <td>...</td>\n",
       "      <td>...</td>\n",
       "      <td>...</td>\n",
       "      <td>...</td>\n",
       "      <td>...</td>\n",
       "      <td>...</td>\n",
       "      <td>...</td>\n",
       "      <td>...</td>\n",
       "      <td>...</td>\n",
       "      <td>...</td>\n",
       "      <td>...</td>\n",
       "      <td>...</td>\n",
       "      <td>...</td>\n",
       "      <td>...</td>\n",
       "      <td>...</td>\n",
       "      <td>...</td>\n",
       "    </tr>\n",
       "    <tr>\n",
       "      <th>36430</th>\n",
       "      <td>0</td>\n",
       "      <td>0</td>\n",
       "      <td>1</td>\n",
       "      <td>0</td>\n",
       "      <td>0</td>\n",
       "      <td>0</td>\n",
       "      <td>0</td>\n",
       "      <td>0</td>\n",
       "      <td>0</td>\n",
       "      <td>0</td>\n",
       "      <td>...</td>\n",
       "      <td>0</td>\n",
       "      <td>0</td>\n",
       "      <td>0</td>\n",
       "      <td>0</td>\n",
       "      <td>0</td>\n",
       "      <td>0</td>\n",
       "      <td>0</td>\n",
       "      <td>0</td>\n",
       "      <td>0</td>\n",
       "      <td>77</td>\n",
       "    </tr>\n",
       "    <tr>\n",
       "      <th>36431</th>\n",
       "      <td>1</td>\n",
       "      <td>0</td>\n",
       "      <td>0</td>\n",
       "      <td>0</td>\n",
       "      <td>0</td>\n",
       "      <td>0</td>\n",
       "      <td>0</td>\n",
       "      <td>0</td>\n",
       "      <td>0</td>\n",
       "      <td>0</td>\n",
       "      <td>...</td>\n",
       "      <td>0</td>\n",
       "      <td>0</td>\n",
       "      <td>0</td>\n",
       "      <td>0</td>\n",
       "      <td>0</td>\n",
       "      <td>0</td>\n",
       "      <td>0</td>\n",
       "      <td>0</td>\n",
       "      <td>0</td>\n",
       "      <td>74</td>\n",
       "    </tr>\n",
       "    <tr>\n",
       "      <th>36432</th>\n",
       "      <td>1</td>\n",
       "      <td>0</td>\n",
       "      <td>1</td>\n",
       "      <td>1</td>\n",
       "      <td>0</td>\n",
       "      <td>0</td>\n",
       "      <td>0</td>\n",
       "      <td>0</td>\n",
       "      <td>0</td>\n",
       "      <td>0</td>\n",
       "      <td>...</td>\n",
       "      <td>0</td>\n",
       "      <td>0</td>\n",
       "      <td>0</td>\n",
       "      <td>0</td>\n",
       "      <td>0</td>\n",
       "      <td>0</td>\n",
       "      <td>0</td>\n",
       "      <td>0</td>\n",
       "      <td>0</td>\n",
       "      <td>74</td>\n",
       "    </tr>\n",
       "    <tr>\n",
       "      <th>36433</th>\n",
       "      <td>0</td>\n",
       "      <td>0</td>\n",
       "      <td>1</td>\n",
       "      <td>0</td>\n",
       "      <td>0</td>\n",
       "      <td>0</td>\n",
       "      <td>0</td>\n",
       "      <td>0</td>\n",
       "      <td>0</td>\n",
       "      <td>0</td>\n",
       "      <td>...</td>\n",
       "      <td>0</td>\n",
       "      <td>0</td>\n",
       "      <td>0</td>\n",
       "      <td>0</td>\n",
       "      <td>0</td>\n",
       "      <td>0</td>\n",
       "      <td>0</td>\n",
       "      <td>0</td>\n",
       "      <td>0</td>\n",
       "      <td>73</td>\n",
       "    </tr>\n",
       "    <tr>\n",
       "      <th>36434</th>\n",
       "      <td>1</td>\n",
       "      <td>0</td>\n",
       "      <td>1</td>\n",
       "      <td>0</td>\n",
       "      <td>0</td>\n",
       "      <td>0</td>\n",
       "      <td>0</td>\n",
       "      <td>0</td>\n",
       "      <td>0</td>\n",
       "      <td>0</td>\n",
       "      <td>...</td>\n",
       "      <td>0</td>\n",
       "      <td>0</td>\n",
       "      <td>0</td>\n",
       "      <td>0</td>\n",
       "      <td>0</td>\n",
       "      <td>0</td>\n",
       "      <td>0</td>\n",
       "      <td>1</td>\n",
       "      <td>0</td>\n",
       "      <td>66</td>\n",
       "    </tr>\n",
       "  </tbody>\n",
       "</table>\n",
       "<p>36435 rows × 21 columns</p>\n",
       "</div>"
      ],
      "text/plain": [
       "       SYMPTOM_COUGH  SYMPTOM_COLD  SYMPTOM_AIR_INSUFFICIENCY  SYMPTOM_FEVER  \\\n",
       "0                  1             0                          0              1   \n",
       "1                  1             0                          1              1   \n",
       "2                  0             0                          1              0   \n",
       "3                  0             0                          0              0   \n",
       "4                  1             0                          1              0   \n",
       "...              ...           ...                        ...            ...   \n",
       "36430              0             0                          1              0   \n",
       "36431              1             0                          0              0   \n",
       "36432              1             0                          1              1   \n",
       "36433              0             0                          1              0   \n",
       "36434              1             0                          1              0   \n",
       "\n",
       "       SYMPTOM_LOW_OXYGEN_SATURATION  SYMPTOM_BREATHING_CONDITION  \\\n",
       "0                                  0                            0   \n",
       "1                                  0                            0   \n",
       "2                                  0                            0   \n",
       "3                                  0                            0   \n",
       "4                                  0                            0   \n",
       "...                              ...                          ...   \n",
       "36430                              0                            0   \n",
       "36431                              0                            0   \n",
       "36432                              0                            0   \n",
       "36433                              0                            0   \n",
       "36434                              0                            0   \n",
       "\n",
       "       SYMPTOM_TORACIC_APERTURE  SYMPTOM_THROAT_CONDITION  SYMPTOM_HEADACHE  \\\n",
       "0                             0                         0                 0   \n",
       "1                             0                         0                 0   \n",
       "2                             0                         0                 0   \n",
       "3                             0                         0                 0   \n",
       "4                             0                         0                 0   \n",
       "...                         ...                       ...               ...   \n",
       "36430                         0                         0                 0   \n",
       "36431                         0                         0                 0   \n",
       "36432                         0                         0                 0   \n",
       "36433                         0                         0                 0   \n",
       "36434                         0                         0                 0   \n",
       "\n",
       "       SYMPTOM_BODY_PAIN  ...  SYMPTOM_RUNNY_NOSE  SYMPTOM_NOSE_CONGESTION  \\\n",
       "0                      1  ...                   0                        0   \n",
       "1                      0  ...                   0                        0   \n",
       "2                      0  ...                   0                        0   \n",
       "3                      0  ...                   0                        0   \n",
       "4                      0  ...                   0                        0   \n",
       "...                  ...  ...                 ...                      ...   \n",
       "36430                  0  ...                   0                        0   \n",
       "36431                  0  ...                   0                        0   \n",
       "36432                  0  ...                   0                        0   \n",
       "36433                  0  ...                   0                        0   \n",
       "36434                  0  ...                   0                        0   \n",
       "\n",
       "       SYMPTOM_WEAKNESS  SYMPTOM_ANOSMIA_OR_HYPOSMIA  SYMPTOM_NAUSEA  \\\n",
       "0                     0                            0               0   \n",
       "1                     0                            0               0   \n",
       "2                     0                            0               0   \n",
       "3                     0                            0               0   \n",
       "4                     0                            0               0   \n",
       "...                 ...                          ...             ...   \n",
       "36430                 0                            0               0   \n",
       "36431                 0                            0               0   \n",
       "36432                 0                            0               0   \n",
       "36433                 0                            0               0   \n",
       "36434                 0                            0               0   \n",
       "\n",
       "       SYMPTOM_LACK_OF_APPETITE  SYMPTOM_ABDOMINAL_PAIN  \\\n",
       "0                             0                       0   \n",
       "1                             0                       0   \n",
       "2                             0                       0   \n",
       "3                             0                       0   \n",
       "4                             0                       0   \n",
       "...                         ...                     ...   \n",
       "36430                         0                       0   \n",
       "36431                         0                       0   \n",
       "36432                         0                       0   \n",
       "36433                         0                       0   \n",
       "36434                         0                       0   \n",
       "\n",
       "       SYMPTOM_CONSCIOUSNESS_DEGRADATION  death  idade  \n",
       "0                                      0      0     53  \n",
       "1                                      0      0      0  \n",
       "2                                      0      0     86  \n",
       "3                                      0      0     66  \n",
       "4                                      0      0     68  \n",
       "...                                  ...    ...    ...  \n",
       "36430                                  0      0     77  \n",
       "36431                                  0      0     74  \n",
       "36432                                  0      0     74  \n",
       "36433                                  0      0     73  \n",
       "36434                                  1      0     66  \n",
       "\n",
       "[36435 rows x 21 columns]"
      ]
     },
     "execution_count": 2,
     "metadata": {},
     "output_type": "execute_result"
    }
   ],
   "source": [
    "dataset = pd.read_csv(\"C:/Users/mcacs/Downloads/MLOps/sintomas_covid.csv\",index_col=0)\n",
    "dataset"
   ]
  },
  {
   "cell_type": "markdown",
   "id": "16847e98-354d-4121-b1e6-20f9d70ab85b",
   "metadata": {},
   "source": [
    "# Feature Engeneering"
   ]
  },
  {
   "cell_type": "code",
   "execution_count": 3,
   "id": "feb32eaf-431c-4ae4-8be8-be5b850bf6a8",
   "metadata": {},
   "outputs": [],
   "source": [
    "def creating_age_groups(x):\n",
    "    #Recém nascido\n",
    "    if 0 <= x <= 5:\n",
    "        x = '0 - 5'\n",
    "    #Crianças\n",
    "    elif 6 <= x <= 15:\n",
    "        x = '6 - 15'\n",
    "    #Adolescente e jovens adultos\n",
    "    elif 16 <= x <= 25:\n",
    "        x = '16 - 25'\n",
    "    #Adultos\n",
    "    elif 26 <= x <= 40:\n",
    "        x = '26 - 40'\n",
    "    #Meia idade\n",
    "    elif 41 <= x <= 60:\n",
    "        x = '41 - 60'\n",
    "    #Idosos\n",
    "    elif 61 <= x <= 80:\n",
    "        x = '61 - 80'\n",
    "    #idosos com mais de 80 anos\n",
    "    else:\n",
    "        x = '>80'\n",
    "    \n",
    "    return x\n",
    "dataset['age_group'] = dataset['idade']\n",
    "dataset['age_group'] = dataset['age_group'].apply(creating_age_groups)"
   ]
  },
  {
   "cell_type": "code",
   "execution_count": 4,
   "id": "e40ba534-7566-4eae-81ae-b7b53c9334ec",
   "metadata": {},
   "outputs": [
    {
     "data": {
      "text/html": [
       "<div>\n",
       "<style scoped>\n",
       "    .dataframe tbody tr th:only-of-type {\n",
       "        vertical-align: middle;\n",
       "    }\n",
       "\n",
       "    .dataframe tbody tr th {\n",
       "        vertical-align: top;\n",
       "    }\n",
       "\n",
       "    .dataframe thead th {\n",
       "        text-align: right;\n",
       "    }\n",
       "</style>\n",
       "<table border=\"1\" class=\"dataframe\">\n",
       "  <thead>\n",
       "    <tr style=\"text-align: right;\">\n",
       "      <th></th>\n",
       "      <th>SYMPTOM_COUGH</th>\n",
       "      <th>SYMPTOM_COLD</th>\n",
       "      <th>SYMPTOM_AIR_INSUFFICIENCY</th>\n",
       "      <th>SYMPTOM_FEVER</th>\n",
       "      <th>SYMPTOM_LOW_OXYGEN_SATURATION</th>\n",
       "      <th>SYMPTOM_BREATHING_CONDITION</th>\n",
       "      <th>SYMPTOM_TORACIC_APERTURE</th>\n",
       "      <th>SYMPTOM_THROAT_CONDITION</th>\n",
       "      <th>SYMPTOM_HEADACHE</th>\n",
       "      <th>SYMPTOM_BODY_PAIN</th>\n",
       "      <th>...</th>\n",
       "      <th>SYMPTOM_ABDOMINAL_PAIN</th>\n",
       "      <th>SYMPTOM_CONSCIOUSNESS_DEGRADATION</th>\n",
       "      <th>death</th>\n",
       "      <th>age_group_0 - 5</th>\n",
       "      <th>age_group_16 - 25</th>\n",
       "      <th>age_group_26 - 40</th>\n",
       "      <th>age_group_41 - 60</th>\n",
       "      <th>age_group_6 - 15</th>\n",
       "      <th>age_group_61 - 80</th>\n",
       "      <th>age_group_&gt;80</th>\n",
       "    </tr>\n",
       "  </thead>\n",
       "  <tbody>\n",
       "    <tr>\n",
       "      <th>0</th>\n",
       "      <td>1</td>\n",
       "      <td>0</td>\n",
       "      <td>0</td>\n",
       "      <td>1</td>\n",
       "      <td>0</td>\n",
       "      <td>0</td>\n",
       "      <td>0</td>\n",
       "      <td>0</td>\n",
       "      <td>0</td>\n",
       "      <td>1</td>\n",
       "      <td>...</td>\n",
       "      <td>0</td>\n",
       "      <td>0</td>\n",
       "      <td>0</td>\n",
       "      <td>0</td>\n",
       "      <td>0</td>\n",
       "      <td>0</td>\n",
       "      <td>1</td>\n",
       "      <td>0</td>\n",
       "      <td>0</td>\n",
       "      <td>0</td>\n",
       "    </tr>\n",
       "    <tr>\n",
       "      <th>1</th>\n",
       "      <td>1</td>\n",
       "      <td>0</td>\n",
       "      <td>1</td>\n",
       "      <td>1</td>\n",
       "      <td>0</td>\n",
       "      <td>0</td>\n",
       "      <td>0</td>\n",
       "      <td>0</td>\n",
       "      <td>0</td>\n",
       "      <td>0</td>\n",
       "      <td>...</td>\n",
       "      <td>0</td>\n",
       "      <td>0</td>\n",
       "      <td>0</td>\n",
       "      <td>1</td>\n",
       "      <td>0</td>\n",
       "      <td>0</td>\n",
       "      <td>0</td>\n",
       "      <td>0</td>\n",
       "      <td>0</td>\n",
       "      <td>0</td>\n",
       "    </tr>\n",
       "    <tr>\n",
       "      <th>2</th>\n",
       "      <td>0</td>\n",
       "      <td>0</td>\n",
       "      <td>1</td>\n",
       "      <td>0</td>\n",
       "      <td>0</td>\n",
       "      <td>0</td>\n",
       "      <td>0</td>\n",
       "      <td>0</td>\n",
       "      <td>0</td>\n",
       "      <td>0</td>\n",
       "      <td>...</td>\n",
       "      <td>0</td>\n",
       "      <td>0</td>\n",
       "      <td>0</td>\n",
       "      <td>0</td>\n",
       "      <td>0</td>\n",
       "      <td>0</td>\n",
       "      <td>0</td>\n",
       "      <td>0</td>\n",
       "      <td>0</td>\n",
       "      <td>1</td>\n",
       "    </tr>\n",
       "    <tr>\n",
       "      <th>3</th>\n",
       "      <td>0</td>\n",
       "      <td>0</td>\n",
       "      <td>0</td>\n",
       "      <td>0</td>\n",
       "      <td>0</td>\n",
       "      <td>0</td>\n",
       "      <td>0</td>\n",
       "      <td>0</td>\n",
       "      <td>0</td>\n",
       "      <td>0</td>\n",
       "      <td>...</td>\n",
       "      <td>0</td>\n",
       "      <td>0</td>\n",
       "      <td>0</td>\n",
       "      <td>0</td>\n",
       "      <td>0</td>\n",
       "      <td>0</td>\n",
       "      <td>0</td>\n",
       "      <td>0</td>\n",
       "      <td>1</td>\n",
       "      <td>0</td>\n",
       "    </tr>\n",
       "    <tr>\n",
       "      <th>4</th>\n",
       "      <td>1</td>\n",
       "      <td>0</td>\n",
       "      <td>1</td>\n",
       "      <td>0</td>\n",
       "      <td>0</td>\n",
       "      <td>0</td>\n",
       "      <td>0</td>\n",
       "      <td>0</td>\n",
       "      <td>0</td>\n",
       "      <td>0</td>\n",
       "      <td>...</td>\n",
       "      <td>0</td>\n",
       "      <td>0</td>\n",
       "      <td>0</td>\n",
       "      <td>0</td>\n",
       "      <td>0</td>\n",
       "      <td>0</td>\n",
       "      <td>0</td>\n",
       "      <td>0</td>\n",
       "      <td>1</td>\n",
       "      <td>0</td>\n",
       "    </tr>\n",
       "    <tr>\n",
       "      <th>...</th>\n",
       "      <td>...</td>\n",
       "      <td>...</td>\n",
       "      <td>...</td>\n",
       "      <td>...</td>\n",
       "      <td>...</td>\n",
       "      <td>...</td>\n",
       "      <td>...</td>\n",
       "      <td>...</td>\n",
       "      <td>...</td>\n",
       "      <td>...</td>\n",
       "      <td>...</td>\n",
       "      <td>...</td>\n",
       "      <td>...</td>\n",
       "      <td>...</td>\n",
       "      <td>...</td>\n",
       "      <td>...</td>\n",
       "      <td>...</td>\n",
       "      <td>...</td>\n",
       "      <td>...</td>\n",
       "      <td>...</td>\n",
       "      <td>...</td>\n",
       "    </tr>\n",
       "    <tr>\n",
       "      <th>36430</th>\n",
       "      <td>0</td>\n",
       "      <td>0</td>\n",
       "      <td>1</td>\n",
       "      <td>0</td>\n",
       "      <td>0</td>\n",
       "      <td>0</td>\n",
       "      <td>0</td>\n",
       "      <td>0</td>\n",
       "      <td>0</td>\n",
       "      <td>0</td>\n",
       "      <td>...</td>\n",
       "      <td>0</td>\n",
       "      <td>0</td>\n",
       "      <td>0</td>\n",
       "      <td>0</td>\n",
       "      <td>0</td>\n",
       "      <td>0</td>\n",
       "      <td>0</td>\n",
       "      <td>0</td>\n",
       "      <td>1</td>\n",
       "      <td>0</td>\n",
       "    </tr>\n",
       "    <tr>\n",
       "      <th>36431</th>\n",
       "      <td>1</td>\n",
       "      <td>0</td>\n",
       "      <td>0</td>\n",
       "      <td>0</td>\n",
       "      <td>0</td>\n",
       "      <td>0</td>\n",
       "      <td>0</td>\n",
       "      <td>0</td>\n",
       "      <td>0</td>\n",
       "      <td>0</td>\n",
       "      <td>...</td>\n",
       "      <td>0</td>\n",
       "      <td>0</td>\n",
       "      <td>0</td>\n",
       "      <td>0</td>\n",
       "      <td>0</td>\n",
       "      <td>0</td>\n",
       "      <td>0</td>\n",
       "      <td>0</td>\n",
       "      <td>1</td>\n",
       "      <td>0</td>\n",
       "    </tr>\n",
       "    <tr>\n",
       "      <th>36432</th>\n",
       "      <td>1</td>\n",
       "      <td>0</td>\n",
       "      <td>1</td>\n",
       "      <td>1</td>\n",
       "      <td>0</td>\n",
       "      <td>0</td>\n",
       "      <td>0</td>\n",
       "      <td>0</td>\n",
       "      <td>0</td>\n",
       "      <td>0</td>\n",
       "      <td>...</td>\n",
       "      <td>0</td>\n",
       "      <td>0</td>\n",
       "      <td>0</td>\n",
       "      <td>0</td>\n",
       "      <td>0</td>\n",
       "      <td>0</td>\n",
       "      <td>0</td>\n",
       "      <td>0</td>\n",
       "      <td>1</td>\n",
       "      <td>0</td>\n",
       "    </tr>\n",
       "    <tr>\n",
       "      <th>36433</th>\n",
       "      <td>0</td>\n",
       "      <td>0</td>\n",
       "      <td>1</td>\n",
       "      <td>0</td>\n",
       "      <td>0</td>\n",
       "      <td>0</td>\n",
       "      <td>0</td>\n",
       "      <td>0</td>\n",
       "      <td>0</td>\n",
       "      <td>0</td>\n",
       "      <td>...</td>\n",
       "      <td>0</td>\n",
       "      <td>0</td>\n",
       "      <td>0</td>\n",
       "      <td>0</td>\n",
       "      <td>0</td>\n",
       "      <td>0</td>\n",
       "      <td>0</td>\n",
       "      <td>0</td>\n",
       "      <td>1</td>\n",
       "      <td>0</td>\n",
       "    </tr>\n",
       "    <tr>\n",
       "      <th>36434</th>\n",
       "      <td>1</td>\n",
       "      <td>0</td>\n",
       "      <td>1</td>\n",
       "      <td>0</td>\n",
       "      <td>0</td>\n",
       "      <td>0</td>\n",
       "      <td>0</td>\n",
       "      <td>0</td>\n",
       "      <td>0</td>\n",
       "      <td>0</td>\n",
       "      <td>...</td>\n",
       "      <td>0</td>\n",
       "      <td>1</td>\n",
       "      <td>0</td>\n",
       "      <td>0</td>\n",
       "      <td>0</td>\n",
       "      <td>0</td>\n",
       "      <td>0</td>\n",
       "      <td>0</td>\n",
       "      <td>1</td>\n",
       "      <td>0</td>\n",
       "    </tr>\n",
       "  </tbody>\n",
       "</table>\n",
       "<p>36435 rows × 27 columns</p>\n",
       "</div>"
      ],
      "text/plain": [
       "       SYMPTOM_COUGH  SYMPTOM_COLD  SYMPTOM_AIR_INSUFFICIENCY  SYMPTOM_FEVER  \\\n",
       "0                  1             0                          0              1   \n",
       "1                  1             0                          1              1   \n",
       "2                  0             0                          1              0   \n",
       "3                  0             0                          0              0   \n",
       "4                  1             0                          1              0   \n",
       "...              ...           ...                        ...            ...   \n",
       "36430              0             0                          1              0   \n",
       "36431              1             0                          0              0   \n",
       "36432              1             0                          1              1   \n",
       "36433              0             0                          1              0   \n",
       "36434              1             0                          1              0   \n",
       "\n",
       "       SYMPTOM_LOW_OXYGEN_SATURATION  SYMPTOM_BREATHING_CONDITION  \\\n",
       "0                                  0                            0   \n",
       "1                                  0                            0   \n",
       "2                                  0                            0   \n",
       "3                                  0                            0   \n",
       "4                                  0                            0   \n",
       "...                              ...                          ...   \n",
       "36430                              0                            0   \n",
       "36431                              0                            0   \n",
       "36432                              0                            0   \n",
       "36433                              0                            0   \n",
       "36434                              0                            0   \n",
       "\n",
       "       SYMPTOM_TORACIC_APERTURE  SYMPTOM_THROAT_CONDITION  SYMPTOM_HEADACHE  \\\n",
       "0                             0                         0                 0   \n",
       "1                             0                         0                 0   \n",
       "2                             0                         0                 0   \n",
       "3                             0                         0                 0   \n",
       "4                             0                         0                 0   \n",
       "...                         ...                       ...               ...   \n",
       "36430                         0                         0                 0   \n",
       "36431                         0                         0                 0   \n",
       "36432                         0                         0                 0   \n",
       "36433                         0                         0                 0   \n",
       "36434                         0                         0                 0   \n",
       "\n",
       "       SYMPTOM_BODY_PAIN  ...  SYMPTOM_ABDOMINAL_PAIN  \\\n",
       "0                      1  ...                       0   \n",
       "1                      0  ...                       0   \n",
       "2                      0  ...                       0   \n",
       "3                      0  ...                       0   \n",
       "4                      0  ...                       0   \n",
       "...                  ...  ...                     ...   \n",
       "36430                  0  ...                       0   \n",
       "36431                  0  ...                       0   \n",
       "36432                  0  ...                       0   \n",
       "36433                  0  ...                       0   \n",
       "36434                  0  ...                       0   \n",
       "\n",
       "       SYMPTOM_CONSCIOUSNESS_DEGRADATION  death  age_group_0 - 5  \\\n",
       "0                                      0      0                0   \n",
       "1                                      0      0                1   \n",
       "2                                      0      0                0   \n",
       "3                                      0      0                0   \n",
       "4                                      0      0                0   \n",
       "...                                  ...    ...              ...   \n",
       "36430                                  0      0                0   \n",
       "36431                                  0      0                0   \n",
       "36432                                  0      0                0   \n",
       "36433                                  0      0                0   \n",
       "36434                                  1      0                0   \n",
       "\n",
       "       age_group_16 - 25  age_group_26 - 40  age_group_41 - 60  \\\n",
       "0                      0                  0                  1   \n",
       "1                      0                  0                  0   \n",
       "2                      0                  0                  0   \n",
       "3                      0                  0                  0   \n",
       "4                      0                  0                  0   \n",
       "...                  ...                ...                ...   \n",
       "36430                  0                  0                  0   \n",
       "36431                  0                  0                  0   \n",
       "36432                  0                  0                  0   \n",
       "36433                  0                  0                  0   \n",
       "36434                  0                  0                  0   \n",
       "\n",
       "       age_group_6 - 15  age_group_61 - 80  age_group_>80  \n",
       "0                     0                  0              0  \n",
       "1                     0                  0              0  \n",
       "2                     0                  0              1  \n",
       "3                     0                  1              0  \n",
       "4                     0                  1              0  \n",
       "...                 ...                ...            ...  \n",
       "36430                 0                  1              0  \n",
       "36431                 0                  1              0  \n",
       "36432                 0                  1              0  \n",
       "36433                 0                  1              0  \n",
       "36434                 0                  1              0  \n",
       "\n",
       "[36435 rows x 27 columns]"
      ]
     },
     "execution_count": 4,
     "metadata": {},
     "output_type": "execute_result"
    }
   ],
   "source": [
    "dataset = pd.get_dummies(dataset, columns = ['age_group'])\n",
    "dataset = dataset.drop(\"idade\",axis=1)\n",
    "dataset"
   ]
  },
  {
   "cell_type": "code",
   "execution_count": 5,
   "id": "099e966a-a140-48bd-976e-f0d530482b8c",
   "metadata": {},
   "outputs": [
    {
     "name": "stdout",
     "output_type": "stream",
     "text": [
      "<class 'pandas.core.frame.DataFrame'>\n",
      "Int64Index: 36435 entries, 0 to 36434\n",
      "Data columns (total 27 columns):\n",
      " #   Column                             Non-Null Count  Dtype\n",
      "---  ------                             --------------  -----\n",
      " 0   SYMPTOM_COUGH                      36435 non-null  int64\n",
      " 1   SYMPTOM_COLD                       36435 non-null  int64\n",
      " 2   SYMPTOM_AIR_INSUFFICIENCY          36435 non-null  int64\n",
      " 3   SYMPTOM_FEVER                      36435 non-null  int64\n",
      " 4   SYMPTOM_LOW_OXYGEN_SATURATION      36435 non-null  int64\n",
      " 5   SYMPTOM_BREATHING_CONDITION        36435 non-null  int64\n",
      " 6   SYMPTOM_TORACIC_APERTURE           36435 non-null  int64\n",
      " 7   SYMPTOM_THROAT_CONDITION           36435 non-null  int64\n",
      " 8   SYMPTOM_HEADACHE                   36435 non-null  int64\n",
      " 9   SYMPTOM_BODY_PAIN                  36435 non-null  int64\n",
      " 10  SYMPTOM_DIARRHEA                   36435 non-null  int64\n",
      " 11  SYMPTOM_RUNNY_NOSE                 36435 non-null  int64\n",
      " 12  SYMPTOM_NOSE_CONGESTION            36435 non-null  int64\n",
      " 13  SYMPTOM_WEAKNESS                   36435 non-null  int64\n",
      " 14  SYMPTOM_ANOSMIA_OR_HYPOSMIA        36435 non-null  int64\n",
      " 15  SYMPTOM_NAUSEA                     36435 non-null  int64\n",
      " 16  SYMPTOM_LACK_OF_APPETITE           36435 non-null  int64\n",
      " 17  SYMPTOM_ABDOMINAL_PAIN             36435 non-null  int64\n",
      " 18  SYMPTOM_CONSCIOUSNESS_DEGRADATION  36435 non-null  int64\n",
      " 19  death                              36435 non-null  int64\n",
      " 20  age_group_0 - 5                    36435 non-null  uint8\n",
      " 21  age_group_16 - 25                  36435 non-null  uint8\n",
      " 22  age_group_26 - 40                  36435 non-null  uint8\n",
      " 23  age_group_41 - 60                  36435 non-null  uint8\n",
      " 24  age_group_6 - 15                   36435 non-null  uint8\n",
      " 25  age_group_61 - 80                  36435 non-null  uint8\n",
      " 26  age_group_>80                      36435 non-null  uint8\n",
      "dtypes: int64(20), uint8(7)\n",
      "memory usage: 6.1 MB\n"
     ]
    }
   ],
   "source": [
    "dataset.info()"
   ]
  },
  {
   "cell_type": "markdown",
   "id": "5f143024-dc1f-4c4f-bda1-b66652bd2a3c",
   "metadata": {},
   "source": [
    "# Feature Selection"
   ]
  },
  {
   "cell_type": "code",
   "execution_count": 6,
   "id": "fe4f15ff-930e-4109-9273-a4968b81596e",
   "metadata": {},
   "outputs": [],
   "source": [
    "from sklearn.model_selection import train_test_split, cross_validate, cross_val_score\n",
    "from sklearn.feature_selection import SelectKBest, chi2, mutual_info_classif, SelectFdr"
   ]
  },
  {
   "cell_type": "code",
   "execution_count": 7,
   "id": "ce9e90c1-db35-434f-b63b-cef5e3dbab28",
   "metadata": {},
   "outputs": [],
   "source": [
    "X = dataset.drop(\"death\",axis=1)\n",
    "y = dataset['death']"
   ]
  },
  {
   "cell_type": "markdown",
   "id": "6a4d5c6c-94e4-41f7-a57e-6cb77c3129d9",
   "metadata": {},
   "source": [
    "# Modelos de Classificacao"
   ]
  },
  {
   "cell_type": "code",
   "execution_count": 8,
   "id": "0ab0935a-24e1-47f7-9d40-a12c214e7ba7",
   "metadata": {},
   "outputs": [],
   "source": [
    "X_train, X_test, y_train, y_test = train_test_split(X, y, test_size=0.2, random_state=42)"
   ]
  },
  {
   "cell_type": "markdown",
   "id": "e73be37a-2f6f-4b67-8942-3ce9b8e121cd",
   "metadata": {},
   "source": [
    "## Random Forest"
   ]
  },
  {
   "cell_type": "code",
   "execution_count": 9,
   "id": "e72ad028-60f4-4ac4-945e-4486a422e155",
   "metadata": {},
   "outputs": [],
   "source": [
    "rf = RandomForestClassifier(random_state=42,n_jobs=-1)\n",
    "scores = ['f1','precision','recall']\n",
    "rf_results_cv = cross_validate(rf, X_train, y_train, cv=10,scoring=scores)"
   ]
  },
  {
   "cell_type": "code",
   "execution_count": 10,
   "id": "3ae31421-040c-4c1f-89d1-0ddb0cd004c8",
   "metadata": {},
   "outputs": [
    {
     "name": "stdout",
     "output_type": "stream",
     "text": [
      "Média de fit_time: 0.74923255443573\n",
      "Média de score_time: 0.15494825839996337\n",
      "Média de test_f1: 0.34910341306868947\n",
      "Média de test_precision: 0.5102858691179503\n",
      "Média de test_recall: 0.2668854202993508\n"
     ]
    }
   ],
   "source": [
    "for metric in rf_results_cv:\n",
    "    print(f'Média de {metric}: {rf_results_cv[metric].mean()}')"
   ]
  },
  {
   "cell_type": "code",
   "execution_count": 13,
   "id": "d25efa31",
   "metadata": {},
   "outputs": [
    {
     "name": "stdout",
     "output_type": "stream",
     "text": [
      "Collecting optuna\n",
      "  Downloading optuna-2.10.1-py3-none-any.whl (308 kB)\n",
      "     -------------------------------------- 308.2/308.2 kB 1.7 MB/s eta 0:00:00\n",
      "Requirement already satisfied: packaging>=20.0 in c:\\users\\mcacs\\anaconda3\\lib\\site-packages (from optuna) (21.0)\n",
      "Requirement already satisfied: scipy!=1.4.0 in c:\\users\\mcacs\\anaconda3\\lib\\site-packages (from optuna) (1.7.1)\n",
      "Requirement already satisfied: PyYAML in c:\\users\\mcacs\\anaconda3\\lib\\site-packages (from optuna) (6.0)\n",
      "Requirement already satisfied: alembic in c:\\users\\mcacs\\anaconda3\\lib\\site-packages (from optuna) (1.8.1)\n",
      "Collecting colorlog\n",
      "  Downloading colorlog-6.6.0-py2.py3-none-any.whl (11 kB)\n",
      "Requirement already satisfied: sqlalchemy>=1.1.0 in c:\\users\\mcacs\\anaconda3\\lib\\site-packages (from optuna) (1.4.22)\n",
      "Requirement already satisfied: tqdm in c:\\users\\mcacs\\anaconda3\\lib\\site-packages (from optuna) (4.62.3)\n",
      "Collecting cliff\n",
      "  Downloading cliff-3.10.1-py3-none-any.whl (81 kB)\n",
      "     ---------------------------------------- 81.0/81.0 kB 1.5 MB/s eta 0:00:00\n",
      "Requirement already satisfied: numpy in c:\\users\\mcacs\\anaconda3\\lib\\site-packages (from optuna) (1.20.3)\n",
      "Collecting cmaes>=0.8.2\n",
      "  Downloading cmaes-0.8.2-py3-none-any.whl (15 kB)\n",
      "Requirement already satisfied: pyparsing>=2.0.2 in c:\\users\\mcacs\\anaconda3\\lib\\site-packages (from packaging>=20.0->optuna) (3.0.4)\n",
      "Requirement already satisfied: greenlet!=0.4.17 in c:\\users\\mcacs\\anaconda3\\lib\\site-packages (from sqlalchemy>=1.1.0->optuna) (1.1.1)\n",
      "Requirement already satisfied: Mako in c:\\users\\mcacs\\anaconda3\\lib\\site-packages (from alembic->optuna) (1.2.1)\n",
      "Collecting PrettyTable>=0.7.2\n",
      "  Downloading prettytable-3.3.0-py3-none-any.whl (26 kB)\n",
      "Collecting stevedore>=2.0.1\n",
      "  Downloading stevedore-4.0.0-py3-none-any.whl (49 kB)\n",
      "     ---------------------------------------- 49.5/49.5 kB 1.3 MB/s eta 0:00:00\n",
      "Collecting autopage>=0.4.0\n",
      "  Downloading autopage-0.5.1-py3-none-any.whl (29 kB)\n",
      "Collecting pbr!=2.1.0,>=2.0.0\n",
      "  Downloading pbr-5.9.0-py2.py3-none-any.whl (112 kB)\n",
      "     -------------------------------------- 112.3/112.3 kB 1.6 MB/s eta 0:00:00\n",
      "Collecting cmd2>=1.0.0\n",
      "  Downloading cmd2-2.4.2-py3-none-any.whl (147 kB)\n",
      "     -------------------------------------- 147.1/147.1 kB 1.8 MB/s eta 0:00:00\n",
      "Requirement already satisfied: colorama in c:\\users\\mcacs\\anaconda3\\lib\\site-packages (from colorlog->optuna) (0.4.4)\n",
      "Requirement already satisfied: attrs>=16.3.0 in c:\\users\\mcacs\\anaconda3\\lib\\site-packages (from cmd2>=1.0.0->cliff->optuna) (21.2.0)\n",
      "Collecting pyperclip>=1.6\n",
      "  Downloading pyperclip-1.8.2.tar.gz (20 kB)\n",
      "  Preparing metadata (setup.py): started\n",
      "  Preparing metadata (setup.py): finished with status 'done'\n",
      "Collecting pyreadline3\n",
      "  Downloading pyreadline3-3.4.1-py3-none-any.whl (95 kB)\n",
      "     ---------------------------------------- 95.2/95.2 kB 1.8 MB/s eta 0:00:00\n",
      "Requirement already satisfied: wcwidth>=0.1.7 in c:\\users\\mcacs\\anaconda3\\lib\\site-packages (from cmd2>=1.0.0->cliff->optuna) (0.2.5)\n",
      "Requirement already satisfied: MarkupSafe>=0.9.2 in c:\\users\\mcacs\\anaconda3\\lib\\site-packages (from Mako->alembic->optuna) (1.1.1)\n",
      "Building wheels for collected packages: pyperclip\n",
      "  Building wheel for pyperclip (setup.py): started\n",
      "  Building wheel for pyperclip (setup.py): finished with status 'done'\n",
      "  Created wheel for pyperclip: filename=pyperclip-1.8.2-py3-none-any.whl size=11136 sha256=c61b5f9e835b652fc037958664ec39745629895f9cdb8a1ba05715f05a695c65\n",
      "  Stored in directory: c:\\users\\mcacs\\appdata\\local\\pip\\cache\\wheels\\0c\\09\\9e\\49e21a6840ef7955b06d47394afef0058f0378c0914e48b8b8\n",
      "Successfully built pyperclip\n",
      "Installing collected packages: pyreadline3, pyperclip, PrettyTable, pbr, colorlog, cmd2, cmaes, autopage, stevedore, cliff, optuna\n",
      "Successfully installed PrettyTable-3.3.0 autopage-0.5.1 cliff-3.10.1 cmaes-0.8.2 cmd2-2.4.2 colorlog-6.6.0 optuna-2.10.1 pbr-5.9.0 pyperclip-1.8.2 pyreadline3-3.4.1 stevedore-4.0.0\n",
      "\n",
      "[notice] A new release of pip available: 22.1.2 -> 22.2.1\n",
      "[notice] To update, run: python.exe -m pip install --upgrade pip\n",
      "Note: you may need to restart the kernel to use updated packages.\n"
     ]
    }
   ],
   "source": [
    "#pip install optuna"
   ]
  },
  {
   "cell_type": "code",
   "execution_count": 11,
   "id": "452b8242-0540-4158-a4cd-8ff1290b9b37",
   "metadata": {},
   "outputs": [],
   "source": [
    "import optuna\n",
    "from sklearn.metrics import f1_score, precision_score, recall_score"
   ]
  },
  {
   "cell_type": "code",
   "execution_count": 12,
   "id": "0b7d59aa-aee7-44f6-83e8-ee8b770ec902",
   "metadata": {},
   "outputs": [
    {
     "name": "stderr",
     "output_type": "stream",
     "text": [
      "\u001b[32m[I 2022-08-03 22:20:23,075]\u001b[0m A new study created in memory with name: no-name-c0d847cb-5929-4f28-98fa-e1196c55edd0\u001b[0m\n",
      "\u001b[32m[I 2022-08-03 22:20:43,895]\u001b[0m Trial 0 finished with value: 0.3094406782780536 and parameters: {'classifier': 'RandomForest', 'bootstrap': False, 'criterion': 'entropy', 'max_features': 'log2', 'min_samples_leaf': 2, 'min_samples_split': 4, 'n_estimators': 1889}. Best is trial 0 with value: 0.3094406782780536.\u001b[0m\n",
      "\u001b[32m[I 2022-08-03 22:20:56,987]\u001b[0m Trial 1 finished with value: 0.2835652148269844 and parameters: {'classifier': 'RandomForest', 'bootstrap': True, 'criterion': 'entropy', 'max_features': 'log2', 'min_samples_leaf': 4, 'min_samples_split': 8, 'n_estimators': 1443}. Best is trial 0 with value: 0.3094406782780536.\u001b[0m\n",
      "\u001b[32m[I 2022-08-03 22:21:11,645]\u001b[0m Trial 2 finished with value: 0.28414364182716334 and parameters: {'classifier': 'RandomForest', 'bootstrap': True, 'criterion': 'gini', 'max_features': 'log2', 'min_samples_leaf': 4, 'min_samples_split': 3, 'n_estimators': 1623}. Best is trial 0 with value: 0.3094406782780536.\u001b[0m\n",
      "\u001b[32m[I 2022-08-03 22:21:15,359]\u001b[0m Trial 3 finished with value: 0.33980305155138535 and parameters: {'classifier': 'RandomForest', 'bootstrap': False, 'criterion': 'gini', 'max_features': 'log2', 'min_samples_leaf': 1, 'min_samples_split': 2, 'n_estimators': 260}. Best is trial 3 with value: 0.33980305155138535.\u001b[0m\n",
      "\u001b[32m[I 2022-08-03 22:21:30,143]\u001b[0m Trial 4 finished with value: 0.3131112452514745 and parameters: {'classifier': 'RandomForest', 'bootstrap': False, 'criterion': 'entropy', 'max_features': 'sqrt', 'min_samples_leaf': 3, 'min_samples_split': 5, 'n_estimators': 1276}. Best is trial 3 with value: 0.33980305155138535.\u001b[0m\n",
      "\u001b[32m[I 2022-08-03 22:21:35,925]\u001b[0m Trial 5 finished with value: 0.3442567622322266 and parameters: {'classifier': 'RandomForest', 'bootstrap': True, 'criterion': 'gini', 'max_features': 'auto', 'min_samples_leaf': 1, 'min_samples_split': 7, 'n_estimators': 443}. Best is trial 5 with value: 0.3442567622322266.\u001b[0m\n",
      "\u001b[32m[I 2022-08-03 22:21:50,932]\u001b[0m Trial 6 finished with value: 0.29151230509539017 and parameters: {'classifier': 'RandomForest', 'bootstrap': False, 'criterion': 'entropy', 'max_features': 'log2', 'min_samples_leaf': 4, 'min_samples_split': 3, 'n_estimators': 1452}. Best is trial 5 with value: 0.3442567622322266.\u001b[0m\n",
      "\u001b[32m[I 2022-08-03 22:21:56,256]\u001b[0m Trial 7 finished with value: 0.29186605356022255 and parameters: {'classifier': 'RandomForest', 'bootstrap': False, 'criterion': 'entropy', 'max_features': 'log2', 'min_samples_leaf': 4, 'min_samples_split': 6, 'n_estimators': 526}. Best is trial 5 with value: 0.3442567622322266.\u001b[0m\n",
      "\u001b[32m[I 2022-08-03 22:22:13,428]\u001b[0m Trial 8 finished with value: 0.3066548367512869 and parameters: {'classifier': 'RandomForest', 'bootstrap': True, 'criterion': 'entropy', 'max_features': 'auto', 'min_samples_leaf': 3, 'min_samples_split': 3, 'n_estimators': 1729}. Best is trial 5 with value: 0.3442567622322266.\u001b[0m\n",
      "\u001b[32m[I 2022-08-03 22:22:29,715]\u001b[0m Trial 9 finished with value: 0.30681452258782577 and parameters: {'classifier': 'RandomForest', 'bootstrap': True, 'criterion': 'entropy', 'max_features': 'sqrt', 'min_samples_leaf': 3, 'min_samples_split': 10, 'n_estimators': 1653}. Best is trial 5 with value: 0.3442567622322266.\u001b[0m\n",
      "\u001b[32m[I 2022-08-03 22:22:39,478]\u001b[0m Trial 10 finished with value: 0.34428031010337806 and parameters: {'classifier': 'RandomForest', 'bootstrap': True, 'criterion': 'gini', 'max_features': 'auto', 'min_samples_leaf': 1, 'min_samples_split': 8, 'n_estimators': 786}. Best is trial 10 with value: 0.34428031010337806.\u001b[0m\n",
      "\u001b[32m[I 2022-08-03 22:22:49,963]\u001b[0m Trial 11 finished with value: 0.3446286095803007 and parameters: {'classifier': 'RandomForest', 'bootstrap': True, 'criterion': 'gini', 'max_features': 'auto', 'min_samples_leaf': 1, 'min_samples_split': 8, 'n_estimators': 830}. Best is trial 11 with value: 0.3446286095803007.\u001b[0m\n",
      "\u001b[32m[I 2022-08-03 22:23:00,715]\u001b[0m Trial 12 finished with value: 0.3444628286320973 and parameters: {'classifier': 'RandomForest', 'bootstrap': True, 'criterion': 'gini', 'max_features': 'auto', 'min_samples_leaf': 1, 'min_samples_split': 9, 'n_estimators': 877}. Best is trial 11 with value: 0.3446286095803007.\u001b[0m\n",
      "\u001b[32m[I 2022-08-03 22:23:10,676]\u001b[0m Trial 13 finished with value: 0.3226932523205477 and parameters: {'classifier': 'RandomForest', 'bootstrap': True, 'criterion': 'gini', 'max_features': 'auto', 'min_samples_leaf': 2, 'min_samples_split': 10, 'n_estimators': 950}. Best is trial 11 with value: 0.3446286095803007.\u001b[0m\n",
      "\u001b[32m[I 2022-08-03 22:23:18,953]\u001b[0m Trial 14 finished with value: 0.3102704131595974 and parameters: {'classifier': 'RandomForest', 'bootstrap': True, 'criterion': 'gini', 'max_features': 'auto', 'min_samples_leaf': 2, 'min_samples_split': 9, 'n_estimators': 763}. Best is trial 11 with value: 0.3446286095803007.\u001b[0m\n",
      "\u001b[32m[I 2022-08-03 22:23:29,751]\u001b[0m Trial 15 finished with value: 0.3445202307735067 and parameters: {'classifier': 'RandomForest', 'bootstrap': True, 'criterion': 'gini', 'max_features': 'auto', 'min_samples_leaf': 1, 'min_samples_split': 8, 'n_estimators': 884}. Best is trial 11 with value: 0.3446286095803007.\u001b[0m\n",
      "\u001b[32m[I 2022-08-03 22:23:42,522]\u001b[0m Trial 16 finished with value: 0.322904054828694 and parameters: {'classifier': 'RandomForest', 'bootstrap': True, 'criterion': 'gini', 'max_features': 'auto', 'min_samples_leaf': 2, 'min_samples_split': 7, 'n_estimators': 1162}. Best is trial 11 with value: 0.3446286095803007.\u001b[0m\n",
      "\u001b[32m[I 2022-08-03 22:23:51,164]\u001b[0m Trial 17 finished with value: 0.34435221269056854 and parameters: {'classifier': 'RandomForest', 'bootstrap': True, 'criterion': 'gini', 'max_features': 'auto', 'min_samples_leaf': 1, 'min_samples_split': 6, 'n_estimators': 694}. Best is trial 11 with value: 0.3446286095803007.\u001b[0m\n",
      "\u001b[32m[I 2022-08-03 22:23:52,815]\u001b[0m Trial 18 finished with value: 0.3410653041087073 and parameters: {'classifier': 'RandomForest', 'bootstrap': True, 'criterion': 'gini', 'max_features': 'sqrt', 'min_samples_leaf': 1, 'min_samples_split': 8, 'n_estimators': 116}. Best is trial 11 with value: 0.3446286095803007.\u001b[0m\n",
      "\u001b[32m[I 2022-08-03 22:24:04,213]\u001b[0m Trial 19 finished with value: 0.32303849385904343 and parameters: {'classifier': 'RandomForest', 'bootstrap': True, 'criterion': 'gini', 'max_features': 'auto', 'min_samples_leaf': 2, 'min_samples_split': 7, 'n_estimators': 1043}. Best is trial 11 with value: 0.3446286095803007.\u001b[0m\n",
      "\u001b[32m[I 2022-08-03 22:24:11,264]\u001b[0m Trial 20 finished with value: 0.34418579097321494 and parameters: {'classifier': 'RandomForest', 'bootstrap': True, 'criterion': 'gini', 'max_features': 'auto', 'min_samples_leaf': 1, 'min_samples_split': 9, 'n_estimators': 542}. Best is trial 11 with value: 0.3446286095803007.\u001b[0m\n",
      "\u001b[32m[I 2022-08-03 22:24:23,906]\u001b[0m Trial 21 finished with value: 0.34410950792414136 and parameters: {'classifier': 'RandomForest', 'bootstrap': True, 'criterion': 'gini', 'max_features': 'auto', 'min_samples_leaf': 1, 'min_samples_split': 9, 'n_estimators': 927}. Best is trial 11 with value: 0.3446286095803007.\u001b[0m\n",
      "\u001b[32m[I 2022-08-03 22:24:40,229]\u001b[0m Trial 22 finished with value: 0.34370654878180884 and parameters: {'classifier': 'RandomForest', 'bootstrap': True, 'criterion': 'gini', 'max_features': 'auto', 'min_samples_leaf': 1, 'min_samples_split': 9, 'n_estimators': 1219}. Best is trial 11 with value: 0.3446286095803007.\u001b[0m\n",
      "\u001b[32m[I 2022-08-03 22:24:50,182]\u001b[0m Trial 23 finished with value: 0.31918356603215775 and parameters: {'classifier': 'RandomForest', 'bootstrap': True, 'criterion': 'gini', 'max_features': 'auto', 'min_samples_leaf': 2, 'min_samples_split': 10, 'n_estimators': 892}. Best is trial 11 with value: 0.3446286095803007.\u001b[0m\n",
      "\u001b[32m[I 2022-08-03 22:24:58,736]\u001b[0m Trial 24 finished with value: 0.3436931050376827 and parameters: {'classifier': 'RandomForest', 'bootstrap': True, 'criterion': 'gini', 'max_features': 'auto', 'min_samples_leaf': 1, 'min_samples_split': 8, 'n_estimators': 650}. Best is trial 11 with value: 0.3446286095803007.\u001b[0m\n",
      "\u001b[32m[I 2022-08-03 22:25:12,554]\u001b[0m Trial 25 finished with value: 0.344213059021673 and parameters: {'classifier': 'RandomForest', 'bootstrap': True, 'criterion': 'gini', 'max_features': 'sqrt', 'min_samples_leaf': 1, 'min_samples_split': 6, 'n_estimators': 1109}. Best is trial 11 with value: 0.3446286095803007.\u001b[0m\n"
     ]
    },
    {
     "name": "stderr",
     "output_type": "stream",
     "text": [
      "\u001b[32m[I 2022-08-03 22:25:16,400]\u001b[0m Trial 26 finished with value: 0.3232367125541148 and parameters: {'classifier': 'RandomForest', 'bootstrap': True, 'criterion': 'gini', 'max_features': 'auto', 'min_samples_leaf': 2, 'min_samples_split': 7, 'n_estimators': 344}. Best is trial 11 with value: 0.3446286095803007.\u001b[0m\n",
      "\u001b[32m[I 2022-08-03 22:25:37,362]\u001b[0m Trial 27 finished with value: 0.34095977230996943 and parameters: {'classifier': 'RandomForest', 'bootstrap': False, 'criterion': 'gini', 'max_features': 'auto', 'min_samples_leaf': 1, 'min_samples_split': 9, 'n_estimators': 1361}. Best is trial 11 with value: 0.3446286095803007.\u001b[0m\n",
      "\u001b[32m[I 2022-08-03 22:25:48,958]\u001b[0m Trial 28 finished with value: 0.3309439626615226 and parameters: {'classifier': 'RandomForest', 'bootstrap': True, 'criterion': 'gini', 'max_features': 'auto', 'min_samples_leaf': 2, 'min_samples_split': 8, 'n_estimators': 1022}. Best is trial 11 with value: 0.3446286095803007.\u001b[0m\n",
      "\u001b[32m[I 2022-08-03 22:26:02,534]\u001b[0m Trial 29 finished with value: 0.3408147471920011 and parameters: {'classifier': 'RandomForest', 'bootstrap': False, 'criterion': 'gini', 'max_features': 'sqrt', 'min_samples_leaf': 1, 'min_samples_split': 5, 'n_estimators': 855}. Best is trial 11 with value: 0.3446286095803007.\u001b[0m\n",
      "\u001b[32m[I 2022-08-03 22:26:09,011]\u001b[0m Trial 30 finished with value: 0.30624707283807673 and parameters: {'classifier': 'RandomForest', 'bootstrap': True, 'criterion': 'gini', 'max_features': 'auto', 'min_samples_leaf': 3, 'min_samples_split': 10, 'n_estimators': 609}. Best is trial 11 with value: 0.3446286095803007.\u001b[0m\n",
      "\u001b[32m[I 2022-08-03 22:26:17,802]\u001b[0m Trial 31 finished with value: 0.34448710474815 and parameters: {'classifier': 'RandomForest', 'bootstrap': True, 'criterion': 'gini', 'max_features': 'auto', 'min_samples_leaf': 1, 'min_samples_split': 6, 'n_estimators': 713}. Best is trial 11 with value: 0.3446286095803007.\u001b[0m\n",
      "\u001b[32m[I 2022-08-03 22:26:27,055]\u001b[0m Trial 32 finished with value: 0.34518200133653243 and parameters: {'classifier': 'RandomForest', 'bootstrap': True, 'criterion': 'gini', 'max_features': 'auto', 'min_samples_leaf': 1, 'min_samples_split': 5, 'n_estimators': 765}. Best is trial 32 with value: 0.34518200133653243.\u001b[0m\n",
      "\u001b[32m[I 2022-08-03 22:26:36,250]\u001b[0m Trial 33 finished with value: 0.3451728562316786 and parameters: {'classifier': 'RandomForest', 'bootstrap': True, 'criterion': 'gini', 'max_features': 'auto', 'min_samples_leaf': 1, 'min_samples_split': 5, 'n_estimators': 752}. Best is trial 32 with value: 0.34518200133653243.\u001b[0m\n",
      "\u001b[32m[I 2022-08-03 22:26:41,715]\u001b[0m Trial 34 finished with value: 0.34560753382485404 and parameters: {'classifier': 'RandomForest', 'bootstrap': True, 'criterion': 'gini', 'max_features': 'log2', 'min_samples_leaf': 1, 'min_samples_split': 4, 'n_estimators': 440}. Best is trial 34 with value: 0.34560753382485404.\u001b[0m\n",
      "\u001b[32m[I 2022-08-03 22:27:05,369]\u001b[0m Trial 35 finished with value: 0.343920053197979 and parameters: {'classifier': 'RandomForest', 'bootstrap': True, 'criterion': 'entropy', 'max_features': 'log2', 'min_samples_leaf': 1, 'min_samples_split': 4, 'n_estimators': 1995}. Best is trial 34 with value: 0.34560753382485404.\u001b[0m\n",
      "\u001b[32m[I 2022-08-03 22:27:10,268]\u001b[0m Trial 36 finished with value: 0.30906662643861293 and parameters: {'classifier': 'RandomForest', 'bootstrap': False, 'criterion': 'gini', 'max_features': 'log2', 'min_samples_leaf': 2, 'min_samples_split': 4, 'n_estimators': 381}. Best is trial 34 with value: 0.34560753382485404.\u001b[0m\n",
      "\u001b[32m[I 2022-08-03 22:27:13,010]\u001b[0m Trial 37 finished with value: 0.3446587630216699 and parameters: {'classifier': 'RandomForest', 'bootstrap': True, 'criterion': 'gini', 'max_features': 'log2', 'min_samples_leaf': 1, 'min_samples_split': 5, 'n_estimators': 208}. Best is trial 34 with value: 0.34560753382485404.\u001b[0m\n",
      "\u001b[32m[I 2022-08-03 22:27:15,276]\u001b[0m Trial 38 finished with value: 0.3071436981394654 and parameters: {'classifier': 'RandomForest', 'bootstrap': True, 'criterion': 'entropy', 'max_features': 'log2', 'min_samples_leaf': 2, 'min_samples_split': 5, 'n_estimators': 194}. Best is trial 34 with value: 0.34560753382485404.\u001b[0m\n",
      "\u001b[32m[I 2022-08-03 22:27:19,514]\u001b[0m Trial 39 finished with value: 0.3412363952633611 and parameters: {'classifier': 'RandomForest', 'bootstrap': False, 'criterion': 'gini', 'max_features': 'log2', 'min_samples_leaf': 1, 'min_samples_split': 4, 'n_estimators': 286}. Best is trial 34 with value: 0.34560753382485404.\u001b[0m\n",
      "\u001b[32m[I 2022-08-03 22:27:25,762]\u001b[0m Trial 40 finished with value: 0.34635006087717324 and parameters: {'classifier': 'RandomForest', 'bootstrap': True, 'criterion': 'entropy', 'max_features': 'log2', 'min_samples_leaf': 1, 'min_samples_split': 2, 'n_estimators': 478}. Best is trial 40 with value: 0.34635006087717324.\u001b[0m\n",
      "\u001b[32m[I 2022-08-03 22:27:31,591]\u001b[0m Trial 41 finished with value: 0.3459809785906157 and parameters: {'classifier': 'RandomForest', 'bootstrap': True, 'criterion': 'entropy', 'max_features': 'log2', 'min_samples_leaf': 1, 'min_samples_split': 2, 'n_estimators': 455}. Best is trial 40 with value: 0.34635006087717324.\u001b[0m\n",
      "\u001b[32m[I 2022-08-03 22:27:37,639]\u001b[0m Trial 42 finished with value: 0.34597093487346114 and parameters: {'classifier': 'RandomForest', 'bootstrap': True, 'criterion': 'entropy', 'max_features': 'log2', 'min_samples_leaf': 1, 'min_samples_split': 2, 'n_estimators': 460}. Best is trial 40 with value: 0.34635006087717324.\u001b[0m\n",
      "\u001b[32m[I 2022-08-03 22:27:44,060]\u001b[0m Trial 43 finished with value: 0.34595675560802147 and parameters: {'classifier': 'RandomForest', 'bootstrap': True, 'criterion': 'entropy', 'max_features': 'log2', 'min_samples_leaf': 1, 'min_samples_split': 2, 'n_estimators': 477}. Best is trial 40 with value: 0.34635006087717324.\u001b[0m\n",
      "\u001b[32m[I 2022-08-03 22:27:50,648]\u001b[0m Trial 44 finished with value: 0.34635095998955967 and parameters: {'classifier': 'RandomForest', 'bootstrap': True, 'criterion': 'entropy', 'max_features': 'log2', 'min_samples_leaf': 1, 'min_samples_split': 2, 'n_estimators': 467}. Best is trial 44 with value: 0.34635095998955967.\u001b[0m\n",
      "\u001b[32m[I 2022-08-03 22:27:57,141]\u001b[0m Trial 45 finished with value: 0.34653805902151713 and parameters: {'classifier': 'RandomForest', 'bootstrap': True, 'criterion': 'entropy', 'max_features': 'log2', 'min_samples_leaf': 1, 'min_samples_split': 2, 'n_estimators': 496}. Best is trial 45 with value: 0.34653805902151713.\u001b[0m\n",
      "\u001b[32m[I 2022-08-03 22:28:04,564]\u001b[0m Trial 46 finished with value: 0.3456358365482475 and parameters: {'classifier': 'RandomForest', 'bootstrap': True, 'criterion': 'entropy', 'max_features': 'log2', 'min_samples_leaf': 1, 'min_samples_split': 2, 'n_estimators': 571}. Best is trial 45 with value: 0.34653805902151713.\u001b[0m\n",
      "\u001b[32m[I 2022-08-03 22:28:08,627]\u001b[0m Trial 47 finished with value: 0.29087410416481824 and parameters: {'classifier': 'RandomForest', 'bootstrap': False, 'criterion': 'entropy', 'max_features': 'log2', 'min_samples_leaf': 4, 'min_samples_split': 3, 'n_estimators': 371}. Best is trial 45 with value: 0.34653805902151713.\u001b[0m\n",
      "\u001b[32m[I 2022-08-03 22:28:13,974]\u001b[0m Trial 48 finished with value: 0.3106574217179518 and parameters: {'classifier': 'RandomForest', 'bootstrap': True, 'criterion': 'entropy', 'max_features': 'log2', 'min_samples_leaf': 2, 'min_samples_split': 2, 'n_estimators': 486}. Best is trial 45 with value: 0.34653805902151713.\u001b[0m\n",
      "\u001b[32m[I 2022-08-03 22:28:16,927]\u001b[0m Trial 49 finished with value: 0.29708032932529116 and parameters: {'classifier': 'RandomForest', 'bootstrap': True, 'criterion': 'entropy', 'max_features': 'log2', 'min_samples_leaf': 3, 'min_samples_split': 3, 'n_estimators': 283}. Best is trial 45 with value: 0.34653805902151713.\u001b[0m\n"
     ]
    },
    {
     "name": "stdout",
     "output_type": "stream",
     "text": [
      "FrozenTrial(number=45, values=[0.34653805902151713], datetime_start=datetime.datetime(2022, 8, 3, 22, 27, 50, 651381), datetime_complete=datetime.datetime(2022, 8, 3, 22, 27, 57, 140615), params={'classifier': 'RandomForest', 'bootstrap': True, 'criterion': 'entropy', 'max_features': 'log2', 'min_samples_leaf': 1, 'min_samples_split': 2, 'n_estimators': 496}, distributions={'classifier': CategoricalDistribution(choices=('RandomForest',)), 'bootstrap': CategoricalDistribution(choices=(True, False)), 'criterion': CategoricalDistribution(choices=('gini', 'entropy')), 'max_features': CategoricalDistribution(choices=('auto', 'sqrt', 'log2')), 'min_samples_leaf': IntUniformDistribution(high=4, low=1, step=1), 'min_samples_split': IntUniformDistribution(high=10, low=2, step=1), 'n_estimators': IntUniformDistribution(high=2000, low=100, step=1)}, user_attrs={}, system_attrs={}, intermediate_values={}, trial_id=45, state=TrialState.COMPLETE, value=None)\n"
     ]
    }
   ],
   "source": [
    "def objective(trial):\n",
    "\n",
    "    classifier_name = trial.suggest_categorical(\"classifier\", [\"RandomForest\"])\n",
    "\n",
    "    bootstrap = trial.suggest_categorical(\"bootstrap\", [True, False])\n",
    "    #max_depth = trial.suggest_int(\"max_depth\", 10, 100)\n",
    "    criterion = trial.suggest_categorical(\"criterion\", ['gini','entropy'])\n",
    "    max_features = trial.suggest_categorical(\"max_features\", ['auto', 'sqrt','log2'])\n",
    "    min_samples_leaf = trial.suggest_int(\"min_samples_leaf\", 1, 4)\n",
    "    min_samples_split = trial.suggest_int(\"min_samples_split\", 2, 10)\n",
    "    n_estimators = trial.suggest_int(\"n_estimators\", 100, 2000)\n",
    "\n",
    "    classifier_obj = RandomForestClassifier(\n",
    "        bootstrap=bootstrap, max_depth=None,\n",
    "        criterion=criterion, max_features=max_features,\n",
    "        min_samples_leaf=min_samples_leaf, min_samples_split=min_samples_split,\n",
    "        n_estimators=n_estimators, random_state=42, n_jobs=-1\n",
    "    )\n",
    "\n",
    "    score = cross_val_score(classifier_obj, X_train, y_train, n_jobs=-1, cv=5,scoring='f1')\n",
    "    f1 = score.mean()\n",
    "    return f1\n",
    "\n",
    "\n",
    "if __name__ == \"__main__\":\n",
    "    study = optuna.create_study(direction=\"maximize\")\n",
    "    study.optimize(objective, n_trials=50)\n",
    "    print(study.best_trial)"
   ]
  },
  {
   "cell_type": "code",
   "execution_count": 13,
   "id": "8920a1dd-2260-49c9-b5e9-d27c57fbd556",
   "metadata": {},
   "outputs": [
    {
     "name": "stdout",
     "output_type": "stream",
     "text": [
      "Média de fit_time: 5.125789833068848\n",
      "Média de score_time: 0.2270437002182007\n",
      "Média de test_f1: 0.34326247614818944\n",
      "Média de test_precision: 0.5140697875560111\n",
      "Média de test_recall: 0.2589257470559847\n"
     ]
    }
   ],
   "source": [
    "best_params={'bootstrap': True, 'criterion': 'entropy', 'max_features': 'log2', 'min_samples_leaf': 1, 'min_samples_split': 2, 'n_estimators': 496}\n",
    "\n",
    "best_rf = RandomForestClassifier(**best_params)\n",
    "scores = ['f1','precision','recall']\n",
    "best_rf_results_cv = cross_validate(best_rf, X_train, y_train, cv=10,scoring=scores)\n",
    "for metric in best_rf_results_cv:\n",
    "    print(f'Média de {metric}: {best_rf_results_cv[metric].mean()}')"
   ]
  },
  {
   "cell_type": "code",
   "execution_count": 14,
   "id": "f936ed50-cf57-4b67-a040-d0dcc87a6485",
   "metadata": {},
   "outputs": [
    {
     "name": "stdout",
     "output_type": "stream",
     "text": [
      "Precisão: 0.513126491646778\n",
      "Revocação: 0.2377003869541183\n",
      "F1-score: 0.3248961088024178\n"
     ]
    }
   ],
   "source": [
    "best_rf.fit(X_train, y_train)\n",
    "y_pred = best_rf.predict(X_test)\n",
    "\n",
    "print('Precisão:',precision_score(y_test,y_pred))\n",
    "print('Revocação:',recall_score(y_test,y_pred))\n",
    "print('F1-score:',f1_score(y_test,y_pred))"
   ]
  },
  {
   "cell_type": "markdown",
   "id": "30a0d094-79ca-4480-99a8-5684c7b4c0d8",
   "metadata": {},
   "source": [
    "## Naive Bayes"
   ]
  },
  {
   "cell_type": "code",
   "execution_count": 15,
   "id": "6b150a34-6453-41dc-bddf-9feb6a9759aa",
   "metadata": {},
   "outputs": [],
   "source": [
    "from sklearn.naive_bayes import ComplementNB"
   ]
  },
  {
   "cell_type": "code",
   "execution_count": 16,
   "id": "7728b520-f803-48bd-b2e3-45dfd2e6bc86",
   "metadata": {},
   "outputs": [],
   "source": [
    "cnb = ComplementNB()\n",
    "scores = ['f1','precision','recall']\n",
    "nb_results_cv = cross_validate(cnb, X_train, y_train, cv=10,scoring=scores)"
   ]
  },
  {
   "cell_type": "code",
   "execution_count": 17,
   "id": "7642ba65-bcf6-4d12-9dd4-e31c35ce5110",
   "metadata": {},
   "outputs": [
    {
     "name": "stdout",
     "output_type": "stream",
     "text": [
      "Média de fit_time: 0.013399434089660645\n",
      "Média de score_time: 0.08498849868774414\n",
      "Média de test_f1: 0.5440745899203498\n",
      "Média de test_precision: 0.432252582692254\n",
      "Média de test_recall: 0.7342997594062302\n"
     ]
    }
   ],
   "source": [
    "for metric in nb_results_cv:\n",
    "    print(f'Média de {metric}: {nb_results_cv[metric].mean()}')"
   ]
  },
  {
   "cell_type": "code",
   "execution_count": 18,
   "id": "0b68808f-0637-4cc5-a51a-2618a394faa2",
   "metadata": {},
   "outputs": [
    {
     "name": "stderr",
     "output_type": "stream",
     "text": [
      "\u001b[32m[I 2022-08-03 22:31:42,366]\u001b[0m A new study created in memory with name: no-name-e6474593-9c7d-406d-9c4f-b7f66e57db28\u001b[0m\n",
      "\u001b[32m[I 2022-08-03 22:31:42,550]\u001b[0m Trial 0 finished with value: 0.5373904779041514 and parameters: {'classifier': 'ComplementNB', 'fit_prior': False, 'alpha': 0.6721118852192909, 'norm': True}. Best is trial 0 with value: 0.5373904779041514.\u001b[0m\n",
      "\u001b[32m[I 2022-08-03 22:31:42,753]\u001b[0m Trial 1 finished with value: 0.5430433931005488 and parameters: {'classifier': 'ComplementNB', 'fit_prior': True, 'alpha': 0.5635121182635996, 'norm': False}. Best is trial 1 with value: 0.5430433931005488.\u001b[0m\n",
      "\u001b[32m[I 2022-08-03 22:31:42,924]\u001b[0m Trial 2 finished with value: 0.5430433931005488 and parameters: {'classifier': 'ComplementNB', 'fit_prior': True, 'alpha': 0.6373520860713866, 'norm': False}. Best is trial 1 with value: 0.5430433931005488.\u001b[0m\n",
      "\u001b[32m[I 2022-08-03 22:31:43,097]\u001b[0m Trial 3 finished with value: 0.5429001182788059 and parameters: {'classifier': 'ComplementNB', 'fit_prior': False, 'alpha': 0.50877765810132, 'norm': False}. Best is trial 1 with value: 0.5430433931005488.\u001b[0m\n",
      "\u001b[32m[I 2022-08-03 22:31:43,297]\u001b[0m Trial 4 finished with value: 0.5373281159766574 and parameters: {'classifier': 'ComplementNB', 'fit_prior': False, 'alpha': 0.5715136425585183, 'norm': True}. Best is trial 1 with value: 0.5430433931005488.\u001b[0m\n",
      "\u001b[32m[I 2022-08-03 22:31:43,471]\u001b[0m Trial 5 finished with value: 0.5372897404470616 and parameters: {'classifier': 'ComplementNB', 'fit_prior': True, 'alpha': 0.541822563203427, 'norm': True}. Best is trial 1 with value: 0.5430433931005488.\u001b[0m\n",
      "\u001b[32m[I 2022-08-03 22:31:43,656]\u001b[0m Trial 6 finished with value: 0.5423366518701869 and parameters: {'classifier': 'ComplementNB', 'fit_prior': False, 'alpha': 0.8453126658890588, 'norm': False}. Best is trial 1 with value: 0.5430433931005488.\u001b[0m\n",
      "\u001b[32m[I 2022-08-03 22:31:43,841]\u001b[0m Trial 7 finished with value: 0.5423366518701869 and parameters: {'classifier': 'ComplementNB', 'fit_prior': True, 'alpha': 0.8928531145367287, 'norm': False}. Best is trial 1 with value: 0.5430433931005488.\u001b[0m\n",
      "\u001b[32m[I 2022-08-03 22:31:44,030]\u001b[0m Trial 8 finished with value: 0.5428828623738027 and parameters: {'classifier': 'ComplementNB', 'fit_prior': False, 'alpha': 0.2072673275019402, 'norm': False}. Best is trial 1 with value: 0.5430433931005488.\u001b[0m\n",
      "\u001b[32m[I 2022-08-03 22:31:44,216]\u001b[0m Trial 9 finished with value: 0.5373904779041514 and parameters: {'classifier': 'ComplementNB', 'fit_prior': True, 'alpha': 0.692202601511543, 'norm': True}. Best is trial 1 with value: 0.5430433931005488.\u001b[0m\n",
      "\u001b[32m[I 2022-08-03 22:31:44,387]\u001b[0m Trial 10 finished with value: 0.5428828623738027 and parameters: {'classifier': 'ComplementNB', 'fit_prior': True, 'alpha': 0.2702049421151034, 'norm': False}. Best is trial 1 with value: 0.5430433931005488.\u001b[0m\n",
      "\u001b[32m[I 2022-08-03 22:31:44,561]\u001b[0m Trial 11 finished with value: 0.5429520467347122 and parameters: {'classifier': 'ComplementNB', 'fit_prior': True, 'alpha': 0.363102183560396, 'norm': False}. Best is trial 1 with value: 0.5430433931005488.\u001b[0m\n",
      "\u001b[32m[I 2022-08-03 22:31:44,733]\u001b[0m Trial 12 finished with value: 0.5423366518701869 and parameters: {'classifier': 'ComplementNB', 'fit_prior': True, 'alpha': 0.7436937791996936, 'norm': False}. Best is trial 1 with value: 0.5430433931005488.\u001b[0m\n",
      "\u001b[32m[I 2022-08-03 22:31:44,917]\u001b[0m Trial 13 finished with value: 0.5429520467347122 and parameters: {'classifier': 'ComplementNB', 'fit_prior': True, 'alpha': 0.3614291533937215, 'norm': False}. Best is trial 1 with value: 0.5430433931005488.\u001b[0m\n",
      "\u001b[32m[I 2022-08-03 22:31:45,106]\u001b[0m Trial 14 finished with value: 0.5427366513267804 and parameters: {'classifier': 'ComplementNB', 'fit_prior': True, 'alpha': 0.032244603228614555, 'norm': False}. Best is trial 1 with value: 0.5430433931005488.\u001b[0m\n",
      "\u001b[32m[I 2022-08-03 22:31:45,304]\u001b[0m Trial 15 finished with value: 0.5429520467347122 and parameters: {'classifier': 'ComplementNB', 'fit_prior': True, 'alpha': 0.4169492576104876, 'norm': False}. Best is trial 1 with value: 0.5430433931005488.\u001b[0m\n",
      "\u001b[32m[I 2022-08-03 22:31:45,476]\u001b[0m Trial 16 finished with value: 0.5423366518701869 and parameters: {'classifier': 'ComplementNB', 'fit_prior': True, 'alpha': 0.7832857844157934, 'norm': False}. Best is trial 1 with value: 0.5430433931005488.\u001b[0m\n",
      "\u001b[32m[I 2022-08-03 22:31:45,679]\u001b[0m Trial 17 finished with value: 0.5423097601714446 and parameters: {'classifier': 'ComplementNB', 'fit_prior': True, 'alpha': 0.9817956509789706, 'norm': False}. Best is trial 1 with value: 0.5430433931005488.\u001b[0m\n",
      "\u001b[32m[I 2022-08-03 22:31:45,849]\u001b[0m Trial 18 finished with value: 0.5373668199064884 and parameters: {'classifier': 'ComplementNB', 'fit_prior': True, 'alpha': 0.6275414832617943, 'norm': True}. Best is trial 1 with value: 0.5430433931005488.\u001b[0m\n",
      "\u001b[32m[I 2022-08-03 22:31:46,035]\u001b[0m Trial 19 finished with value: 0.5429520467347122 and parameters: {'classifier': 'ComplementNB', 'fit_prior': True, 'alpha': 0.453575551055833, 'norm': False}. Best is trial 1 with value: 0.5430433931005488.\u001b[0m\n",
      "\u001b[32m[I 2022-08-03 22:31:46,211]\u001b[0m Trial 20 finished with value: 0.5427366513267804 and parameters: {'classifier': 'ComplementNB', 'fit_prior': True, 'alpha': 0.1366152103041186, 'norm': False}. Best is trial 1 with value: 0.5430433931005488.\u001b[0m\n",
      "\u001b[32m[I 2022-08-03 22:31:46,397]\u001b[0m Trial 21 finished with value: 0.5429520467347122 and parameters: {'classifier': 'ComplementNB', 'fit_prior': True, 'alpha': 0.40661180599026187, 'norm': False}. Best is trial 1 with value: 0.5430433931005488.\u001b[0m\n",
      "\u001b[32m[I 2022-08-03 22:31:46,570]\u001b[0m Trial 22 finished with value: 0.5430433931005488 and parameters: {'classifier': 'ComplementNB', 'fit_prior': True, 'alpha': 0.6097314445820927, 'norm': False}. Best is trial 1 with value: 0.5430433931005488.\u001b[0m\n",
      "\u001b[32m[I 2022-08-03 22:31:46,743]\u001b[0m Trial 23 finished with value: 0.5430433931005488 and parameters: {'classifier': 'ComplementNB', 'fit_prior': True, 'alpha': 0.592183070193681, 'norm': False}. Best is trial 1 with value: 0.5430433931005488.\u001b[0m\n",
      "\u001b[32m[I 2022-08-03 22:31:46,926]\u001b[0m Trial 24 finished with value: 0.5423366518701869 and parameters: {'classifier': 'ComplementNB', 'fit_prior': True, 'alpha': 0.7517235202368039, 'norm': False}. Best is trial 1 with value: 0.5430433931005488.\u001b[0m\n",
      "\u001b[32m[I 2022-08-03 22:31:47,098]\u001b[0m Trial 25 finished with value: 0.5429260762533323 and parameters: {'classifier': 'ComplementNB', 'fit_prior': True, 'alpha': 0.5019907490073365, 'norm': False}. Best is trial 1 with value: 0.5430433931005488.\u001b[0m\n",
      "\u001b[32m[I 2022-08-03 22:31:47,272]\u001b[0m Trial 26 finished with value: 0.5423627711086696 and parameters: {'classifier': 'ComplementNB', 'fit_prior': True, 'alpha': 0.663911225267702, 'norm': False}. Best is trial 1 with value: 0.5430433931005488.\u001b[0m\n",
      "\u001b[32m[I 2022-08-03 22:31:47,459]\u001b[0m Trial 27 finished with value: 0.5373668199064884 and parameters: {'classifier': 'ComplementNB', 'fit_prior': False, 'alpha': 0.583485418323817, 'norm': True}. Best is trial 1 with value: 0.5430433931005488.\u001b[0m\n",
      "\u001b[32m[I 2022-08-03 22:31:47,660]\u001b[0m Trial 28 finished with value: 0.5423366518701869 and parameters: {'classifier': 'ComplementNB', 'fit_prior': True, 'alpha': 0.7971555547720574, 'norm': False}. Best is trial 1 with value: 0.5430433931005488.\u001b[0m\n",
      "\u001b[32m[I 2022-08-03 22:31:47,831]\u001b[0m Trial 29 finished with value: 0.5373683996699199 and parameters: {'classifier': 'ComplementNB', 'fit_prior': False, 'alpha': 0.6989634947393942, 'norm': True}. Best is trial 1 with value: 0.5430433931005488.\u001b[0m\n",
      "\u001b[32m[I 2022-08-03 22:31:48,018]\u001b[0m Trial 30 finished with value: 0.5423366518701869 and parameters: {'classifier': 'ComplementNB', 'fit_prior': True, 'alpha': 0.893511100484012, 'norm': False}. Best is trial 1 with value: 0.5430433931005488.\u001b[0m\n",
      "\u001b[32m[I 2022-08-03 22:31:48,188]\u001b[0m Trial 31 finished with value: 0.5430433931005488 and parameters: {'classifier': 'ComplementNB', 'fit_prior': True, 'alpha': 0.6079690416383533, 'norm': False}. Best is trial 1 with value: 0.5430433931005488.\u001b[0m\n",
      "\u001b[32m[I 2022-08-03 22:31:48,359]\u001b[0m Trial 32 finished with value: 0.5429260762533323 and parameters: {'classifier': 'ComplementNB', 'fit_prior': True, 'alpha': 0.4879150472279768, 'norm': False}. Best is trial 1 with value: 0.5430433931005488.\u001b[0m\n"
     ]
    },
    {
     "name": "stderr",
     "output_type": "stream",
     "text": [
      "\u001b[32m[I 2022-08-03 22:31:48,531]\u001b[0m Trial 33 finished with value: 0.5430433931005488 and parameters: {'classifier': 'ComplementNB', 'fit_prior': True, 'alpha': 0.6297803095768688, 'norm': False}. Best is trial 1 with value: 0.5430433931005488.\u001b[0m\n",
      "\u001b[32m[I 2022-08-03 22:31:48,703]\u001b[0m Trial 34 finished with value: 0.5430433931005488 and parameters: {'classifier': 'ComplementNB', 'fit_prior': False, 'alpha': 0.5197797498165078, 'norm': False}. Best is trial 1 with value: 0.5430433931005488.\u001b[0m\n",
      "\u001b[32m[I 2022-08-03 22:31:48,875]\u001b[0m Trial 35 finished with value: 0.5373502033228303 and parameters: {'classifier': 'ComplementNB', 'fit_prior': False, 'alpha': 0.5443463270329306, 'norm': True}. Best is trial 1 with value: 0.5430433931005488.\u001b[0m\n",
      "\u001b[32m[I 2022-08-03 22:31:49,060]\u001b[0m Trial 36 finished with value: 0.5430433931005488 and parameters: {'classifier': 'ComplementNB', 'fit_prior': False, 'alpha': 0.536908286900427, 'norm': False}. Best is trial 1 with value: 0.5430433931005488.\u001b[0m\n",
      "\u001b[32m[I 2022-08-03 22:31:49,243]\u001b[0m Trial 37 finished with value: 0.5430433931005488 and parameters: {'classifier': 'ComplementNB', 'fit_prior': False, 'alpha': 0.6625124184011018, 'norm': False}. Best is trial 1 with value: 0.5430433931005488.\u001b[0m\n",
      "\u001b[32m[I 2022-08-03 22:31:49,415]\u001b[0m Trial 38 finished with value: 0.5423627711086696 and parameters: {'classifier': 'ComplementNB', 'fit_prior': False, 'alpha': 0.6930505558756, 'norm': False}. Best is trial 1 with value: 0.5430433931005488.\u001b[0m\n",
      "\u001b[32m[I 2022-08-03 22:31:49,586]\u001b[0m Trial 39 finished with value: 0.5373992691377291 and parameters: {'classifier': 'ComplementNB', 'fit_prior': False, 'alpha': 0.4494552255258464, 'norm': True}. Best is trial 1 with value: 0.5430433931005488.\u001b[0m\n",
      "\u001b[32m[I 2022-08-03 22:31:49,755]\u001b[0m Trial 40 finished with value: 0.5423366518701869 and parameters: {'classifier': 'ComplementNB', 'fit_prior': False, 'alpha': 0.8490091506352153, 'norm': False}. Best is trial 1 with value: 0.5430433931005488.\u001b[0m\n",
      "\u001b[32m[I 2022-08-03 22:31:49,945]\u001b[0m Trial 41 finished with value: 0.5430433931005488 and parameters: {'classifier': 'ComplementNB', 'fit_prior': False, 'alpha': 0.5424041741178336, 'norm': False}. Best is trial 1 with value: 0.5430433931005488.\u001b[0m\n",
      "\u001b[32m[I 2022-08-03 22:31:50,118]\u001b[0m Trial 42 finished with value: 0.5430433931005488 and parameters: {'classifier': 'ComplementNB', 'fit_prior': False, 'alpha': 0.6531077989085003, 'norm': False}. Best is trial 1 with value: 0.5430433931005488.\u001b[0m\n",
      "\u001b[32m[I 2022-08-03 22:31:50,305]\u001b[0m Trial 43 finished with value: 0.5423627711086696 and parameters: {'classifier': 'ComplementNB', 'fit_prior': False, 'alpha': 0.7329254734363421, 'norm': False}. Best is trial 1 with value: 0.5430433931005488.\u001b[0m\n",
      "\u001b[32m[I 2022-08-03 22:31:50,495]\u001b[0m Trial 44 finished with value: 0.5430433931005488 and parameters: {'classifier': 'ComplementNB', 'fit_prior': True, 'alpha': 0.5644617359471005, 'norm': False}. Best is trial 1 with value: 0.5430433931005488.\u001b[0m\n",
      "\u001b[32m[I 2022-08-03 22:31:50,694]\u001b[0m Trial 45 finished with value: 0.5430433931005488 and parameters: {'classifier': 'ComplementNB', 'fit_prior': False, 'alpha': 0.6603462209309143, 'norm': False}. Best is trial 1 with value: 0.5430433931005488.\u001b[0m\n",
      "\u001b[32m[I 2022-08-03 22:31:50,865]\u001b[0m Trial 46 finished with value: 0.5428828623738027 and parameters: {'classifier': 'ComplementNB', 'fit_prior': False, 'alpha': 0.33605220259311097, 'norm': False}. Best is trial 1 with value: 0.5430433931005488.\u001b[0m\n",
      "\u001b[32m[I 2022-08-03 22:31:51,035]\u001b[0m Trial 47 finished with value: 0.5430433931005488 and parameters: {'classifier': 'ComplementNB', 'fit_prior': False, 'alpha': 0.5993722659359787, 'norm': False}. Best is trial 1 with value: 0.5430433931005488.\u001b[0m\n",
      "\u001b[32m[I 2022-08-03 22:31:51,210]\u001b[0m Trial 48 finished with value: 0.5430433931005488 and parameters: {'classifier': 'ComplementNB', 'fit_prior': False, 'alpha': 0.5656967220539121, 'norm': False}. Best is trial 1 with value: 0.5430433931005488.\u001b[0m\n",
      "\u001b[32m[I 2022-08-03 22:31:51,395]\u001b[0m Trial 49 finished with value: 0.5429001182788059 and parameters: {'classifier': 'ComplementNB', 'fit_prior': False, 'alpha': 0.5104795324635658, 'norm': False}. Best is trial 1 with value: 0.5430433931005488.\u001b[0m\n"
     ]
    },
    {
     "name": "stdout",
     "output_type": "stream",
     "text": [
      "FrozenTrial(number=1, values=[0.5430433931005488], datetime_start=datetime.datetime(2022, 8, 3, 22, 31, 42, 553350), datetime_complete=datetime.datetime(2022, 8, 3, 22, 31, 42, 752748), params={'classifier': 'ComplementNB', 'fit_prior': True, 'alpha': 0.5635121182635996, 'norm': False}, distributions={'classifier': CategoricalDistribution(choices=('ComplementNB',)), 'fit_prior': CategoricalDistribution(choices=(True, False)), 'alpha': UniformDistribution(high=1.0, low=0.001), 'norm': CategoricalDistribution(choices=(True, False))}, user_attrs={}, system_attrs={}, intermediate_values={}, trial_id=1, state=TrialState.COMPLETE, value=None)\n"
     ]
    }
   ],
   "source": [
    "def objective(trial):\n",
    "\n",
    "    classifier_name = trial.suggest_categorical(\"classifier\", [\"ComplementNB\"])\n",
    "\n",
    "    fit_prior = trial.suggest_categorical(\"fit_prior\", [True, False])\n",
    "    alpha = trial.suggest_float(\"alpha\", 0.001, 1)\n",
    "    norm = trial.suggest_categorical(\"norm\", [True, False])\n",
    "\n",
    "    classifier_obj = ComplementNB(\n",
    "        fit_prior=fit_prior, alpha=alpha, norm=norm\n",
    "    )\n",
    "\n",
    "    score = cross_val_score(classifier_obj, X_train, y_train, n_jobs=-1, cv=5,scoring='f1')\n",
    "    f1 = score.mean()\n",
    "    return f1\n",
    "\n",
    "\n",
    "if __name__ == \"__main__\":\n",
    "    study = optuna.create_study(direction=\"maximize\")\n",
    "    study.optimize(objective, n_trials=50)\n",
    "    print(study.best_trial)"
   ]
  },
  {
   "cell_type": "code",
   "execution_count": 19,
   "id": "5c9d6e41-7715-4ccc-80ff-daa0fc487ebc",
   "metadata": {},
   "outputs": [
    {
     "name": "stdout",
     "output_type": "stream",
     "text": [
      "Média de fit_time: 0.012622809410095215\n",
      "Média de score_time: 0.006293535232543945\n",
      "Média de test_f1: 0.5441525522258035\n",
      "Média de test_precision: 0.4323495610181176\n",
      "Média de test_recall: 0.7342997594062302\n"
     ]
    }
   ],
   "source": [
    "best_params={'fit_prior': True, 'alpha': 0.5635121182635996, 'norm': False}\n",
    "\n",
    "best_nb = ComplementNB(**best_params)\n",
    "scores = ['f1','precision','recall']\n",
    "best_nb_results_cv = cross_validate(best_nb, X_train, y_train, cv=10,scoring=scores)\n",
    "for metric in best_nb_results_cv:\n",
    "    print(f'Média de {metric}: {best_nb_results_cv[metric].mean()}')"
   ]
  },
  {
   "cell_type": "code",
   "execution_count": 20,
   "id": "ab621a25-ef03-4005-a4f9-72cc829ca3bb",
   "metadata": {},
   "outputs": [
    {
     "name": "stdout",
     "output_type": "stream",
     "text": [
      "Precisão: 0.4288939051918736\n",
      "Revocação: 0.7352128247650636\n",
      "F1-score: 0.5417515274949083\n"
     ]
    }
   ],
   "source": [
    "best_nb.fit(X_train, y_train)\n",
    "y_pred = best_nb.predict(X_test)\n",
    "\n",
    "print('Precisão:',precision_score(y_test,y_pred))\n",
    "print('Revocação:',recall_score(y_test,y_pred))\n",
    "print('F1-score:',f1_score(y_test,y_pred))"
   ]
  },
  {
   "cell_type": "markdown",
   "id": "215a375a-a7a9-42ae-b648-47b26c791e13",
   "metadata": {},
   "source": [
    "# MLFlow"
   ]
  },
  {
   "cell_type": "code",
   "execution_count": 21,
   "id": "14064dc6-4c3c-4b40-887d-5d65e8123685",
   "metadata": {},
   "outputs": [],
   "source": [
    "import mlflow"
   ]
  },
  {
   "cell_type": "code",
   "execution_count": 22,
   "id": "a002d47f-302c-4ff9-a4cf-f966a0541213",
   "metadata": {},
   "outputs": [],
   "source": [
    "import pickle"
   ]
  },
  {
   "cell_type": "markdown",
   "id": "190b4c06-751c-4d88-bfa7-45a498b4042e",
   "metadata": {},
   "source": [
    "## Experiment Tracking"
   ]
  },
  {
   "cell_type": "code",
   "execution_count": 23,
   "id": "2465706d-67bf-4ccb-8c28-77cf990b54fd",
   "metadata": {},
   "outputs": [
    {
     "name": "stderr",
     "output_type": "stream",
     "text": [
      "2022/08/03 22:33:01 INFO mlflow.tracking.fluent: Experiment with name 'projeto_final' does not exist. Creating a new experiment.\n"
     ]
    },
    {
     "data": {
      "text/plain": [
       "<Experiment: artifact_location='./mlruns/1', experiment_id='1', lifecycle_stage='active', name='projeto_final', tags={}>"
      ]
     },
     "execution_count": 23,
     "metadata": {},
     "output_type": "execute_result"
    }
   ],
   "source": [
    "mlflow.set_tracking_uri(\"sqlite:///mlops.db\")\n",
    "mlflow.set_experiment(\"projeto_final\")"
   ]
  },
  {
   "cell_type": "code",
   "execution_count": 24,
   "id": "30c80968-dfc5-431b-99b6-20d466a62532",
   "metadata": {},
   "outputs": [],
   "source": [
    "X_train, X_valid, y_train, y_valid = train_test_split(X_train, y_train, test_size=0.2, random_state=42)"
   ]
  },
  {
   "cell_type": "markdown",
   "id": "b3eb6caa-3810-4e77-af8e-5e17416932b9",
   "metadata": {},
   "source": [
    "### Random Forest"
   ]
  },
  {
   "cell_type": "code",
   "execution_count": 48,
   "id": "a8c23168-64d7-447c-a357-c110044ccf4d",
   "metadata": {},
   "outputs": [],
   "source": [
    "with open('C:/Users/mcacs/Downloads/MLOps/random_forest.bin', 'wb') as f_out:\n",
    "    pickle.dump(rf, f_out)"
   ]
  },
  {
   "cell_type": "code",
   "execution_count": 49,
   "id": "b884d9fc-8830-4da9-9997-78dd3e21c47f",
   "metadata": {},
   "outputs": [
    {
     "name": "stderr",
     "output_type": "stream",
     "text": [
      "2022/08/03 23:00:22 WARNING mlflow.utils.autologging_utils: MLflow autologging encountered a warning: \"C:\\Users\\mcacs\\anaconda3\\lib\\site-packages\\mlflow\\models\\signature.py:129: UserWarning: Hint: Inferred schema contains integer column(s). Integer columns in Python cannot represent missing values. If your input data contains missing values at inference time, it will be encoded as floats and will cause a schema enforcement error. The best way to avoid this problem is to infer the model schema based on a realistic data sample (training dataset) that includes missing values. Alternatively, you can declare integer columns as doubles (float64) whenever these columns may have missing values. See `Handling Integers With Missing Values <https://www.mlflow.org/docs/latest/models.html#handling-integers-with-missing-values>`_ for more details.\"\n"
     ]
    }
   ],
   "source": [
    "mlflow.sklearn.autolog()\n",
    "with mlflow.start_run():\n",
    "\n",
    "    mlflow.set_tag(\"model\", \"Random Forest\")\n",
    "    \n",
    "    mlflow.log_param(\"train-data-path\", pd.concat([X_train,y_train],axis=1))\n",
    "    mlflow.log_param(\"valid-data-path\", pd.concat([X_valid,y_valid],axis=1))\n",
    "\n",
    "    best_params={'bootstrap': True, \n",
    "                 'criterion': 'entropy', \n",
    "                 'max_features': 'log2', \n",
    "                 'min_samples_leaf': 1, \n",
    "                 'min_samples_split': 2, \n",
    "                 'n_estimators': 496}\n",
    "    \n",
    "    mlflow.log_param(\"parameters\", best_params)\n",
    "    \n",
    "    rf = RandomForestClassifier(**best_params)\n",
    "    rf.fit(X_train, y_train)\n",
    "\n",
    "    y_pred = rf.predict(X_valid)\n",
    "    f1 = f1_score(y_valid,y_pred)\n",
    "    \n",
    "    mlflow.log_metric(\"f1\", f1)\n",
    "\n",
    "    mlflow.log_artifact(local_path=\"C:/Users/mcacs/Downloads/MLOps/random_forest.bin\", artifact_path=\"models_pickle\")"
   ]
  },
  {
   "cell_type": "markdown",
   "id": "5fc475d0-7727-42eb-a2fa-6b030666fbd7",
   "metadata": {},
   "source": [
    "### Naive Bayes"
   ]
  },
  {
   "cell_type": "code",
   "execution_count": 50,
   "id": "48de7383-39e8-4300-ad73-5a51300f9acc",
   "metadata": {},
   "outputs": [],
   "source": [
    "with open('C:/Users/mcacs/Downloads/MLOps/naive_bayes.bin', 'wb') as f_out:\n",
    "    pickle.dump(cnb, f_out)"
   ]
  },
  {
   "cell_type": "code",
   "execution_count": 51,
   "id": "abafe009-4f42-424c-b959-6dfdc7ab5f95",
   "metadata": {},
   "outputs": [
    {
     "name": "stderr",
     "output_type": "stream",
     "text": [
      "2022/08/03 23:02:08 WARNING mlflow.utils.autologging_utils: MLflow autologging encountered a warning: \"C:\\Users\\mcacs\\anaconda3\\lib\\site-packages\\mlflow\\models\\signature.py:129: UserWarning: Hint: Inferred schema contains integer column(s). Integer columns in Python cannot represent missing values. If your input data contains missing values at inference time, it will be encoded as floats and will cause a schema enforcement error. The best way to avoid this problem is to infer the model schema based on a realistic data sample (training dataset) that includes missing values. Alternatively, you can declare integer columns as doubles (float64) whenever these columns may have missing values. See `Handling Integers With Missing Values <https://www.mlflow.org/docs/latest/models.html#handling-integers-with-missing-values>`_ for more details.\"\n",
      "2022/08/03 23:02:11 WARNING mlflow.utils.autologging_utils: Encountered unexpected error during sklearn autologging: The following failures occurred while performing one or more logging operations: [MlflowException('Failed to perform one or more operations on the run with ID fbe822ea478a474f879a781234a061dd. Failed operations: [MlflowException(\\'Changing param values is not allowed. Params were already logged=\\\\\\'[{\\\\\\'key\\\\\\': \\\\\\'alpha\\\\\\', \\\\\\'old_value\\\\\\': \"{\\\\\\'fit_prior\\\\\\': True, \\\\\\'alpha\\\\\\': 0.5635121182635996, \\\\\\'norm\\\\\\': False}\", \\\\\\'new_value\\\\\\': \\\\\\'0.5635121182635996\\\\\\'}, {\\\\\\'key\\\\\\': \\\\\\'class_prior\\\\\\', \\\\\\'old_value\\\\\\': None, \\\\\\'new_value\\\\\\': \\\\\\'None\\\\\\'}, {\\\\\\'key\\\\\\': \\\\\\'fit_prior\\\\\\', \\\\\\'old_value\\\\\\': None, \\\\\\'new_value\\\\\\': \\\\\\'True\\\\\\'}, {\\\\\\'key\\\\\\': \\\\\\'norm\\\\\\', \\\\\\'old_value\\\\\\': None, \\\\\\'new_value\\\\\\': \\\\\\'False\\\\\\'}]\\\\\\' for run ID=\\\\\\'fbe822ea478a474f879a781234a061dd\\\\\\'.\\')]')]\n"
     ]
    }
   ],
   "source": [
    "mlflow.sklearn.autolog()\n",
    "with mlflow.start_run():\n",
    "\n",
    "    mlflow.set_tag(\"model\", \"Naive Bayes\")\n",
    "    \n",
    "    mlflow.log_param(\"train-data-path\", pd.concat([X_train,y_train],axis=1))\n",
    "    mlflow.log_param(\"valid-data-path\", pd.concat([X_valid,y_valid],axis=1))\n",
    "\n",
    "    best_params={'fit_prior': True, 'alpha': 0.5635121182635996, \n",
    "                 'norm': False}\n",
    "    \n",
    "    mlflow.log_param(\"alpha\", best_params)\n",
    "    \n",
    "    cnb = ComplementNB(**best_params)\n",
    "    cnb.fit(X_train, y_train)\n",
    "\n",
    "    y_pred = cnb.predict(X_valid)\n",
    "    f1 = f1_score(y_valid,y_pred)\n",
    "    \n",
    "    mlflow.log_metric(\"f1\", f1)\n",
    "\n",
    "    mlflow.log_artifact(local_path=\"C:/Users/mcacs/Downloads/MLOps/naive_bayes.bin\", artifact_path=\"models_pickle\")"
   ]
  },
  {
   "cell_type": "markdown",
   "id": "b768b926-0717-429f-af6c-45b1f216521c",
   "metadata": {},
   "source": [
    "## Model Registry"
   ]
  },
  {
   "cell_type": "markdown",
   "id": "0b005e7a-9cfb-4ff6-adce-a097284d248b",
   "metadata": {},
   "source": [
    "### Listando os modelos salvos"
   ]
  },
  {
   "cell_type": "code",
   "execution_count": 52,
   "id": "b98f7843-f66b-4f67-8a0e-be331a9463b2",
   "metadata": {},
   "outputs": [],
   "source": [
    "from mlflow.tracking import MlflowClient\n",
    "\n",
    "\n",
    "MLFLOW_TRACKING_URI = \"sqlite:///mlops.db\""
   ]
  },
  {
   "cell_type": "code",
   "execution_count": 53,
   "id": "17d31b86-69aa-441f-8446-e27dd251b029",
   "metadata": {},
   "outputs": [
    {
     "data": {
      "text/plain": [
       "[<Experiment: artifact_location='./mlruns/0', experiment_id='0', lifecycle_stage='active', name='Default', tags={}>,\n",
       " <Experiment: artifact_location='./mlruns/1', experiment_id='1', lifecycle_stage='active', name='projeto_final', tags={}>]"
      ]
     },
     "execution_count": 53,
     "metadata": {},
     "output_type": "execute_result"
    }
   ],
   "source": [
    "client = MlflowClient(tracking_uri=MLFLOW_TRACKING_URI)\n",
    "\n",
    "client.list_experiments()"
   ]
  },
  {
   "cell_type": "code",
   "execution_count": 54,
   "id": "d9049dbf-93f8-43cf-a700-8496db4a935a",
   "metadata": {},
   "outputs": [
    {
     "data": {
      "text/plain": [
       "<Experiment: artifact_location='./mlruns/1', experiment_id='1', lifecycle_stage='active', name='projeto_final', tags={}>"
      ]
     },
     "execution_count": 54,
     "metadata": {},
     "output_type": "execute_result"
    }
   ],
   "source": [
    "client.get_experiment(experiment_id=\"1\")"
   ]
  },
  {
   "cell_type": "code",
   "execution_count": 55,
   "id": "eecf7687-96e9-4c25-8a9e-664eaaffe472",
   "metadata": {},
   "outputs": [],
   "source": [
    "from mlflow.entities import ViewType\n",
    "\n",
    "runs = client.search_runs(\n",
    "    experiment_ids='1',\n",
    "    filter_string=\"metrics.f1 > 0.1\",\n",
    "    run_view_type=ViewType.ACTIVE_ONLY,\n",
    "    max_results=5,\n",
    "    order_by=[\"metrics.f1 ASC\"]\n",
    ")"
   ]
  },
  {
   "cell_type": "code",
   "execution_count": 56,
   "id": "15948921-228e-4974-81fc-8c37042ad91b",
   "metadata": {},
   "outputs": [
    {
     "name": "stdout",
     "output_type": "stream",
     "text": [
      "run id: 4e0b333c69d14bb990a544fdf3630bd2, f1: 0.3416\n",
      "run id: 18aa0aa3b3fe4a1998dd90c635ae1206, f1: 0.3468\n",
      "run id: fbe822ea478a474f879a781234a061dd, f1: 0.5429\n",
      "run id: fe7335fcd81141efa2b861a8edec48c7, f1: 0.5429\n"
     ]
    }
   ],
   "source": [
    "for run in runs:\n",
    "    print(f\"run id: {run.info.run_id}, f1: {run.data.metrics['f1']:.4f}\")"
   ]
  },
  {
   "cell_type": "markdown",
   "id": "03fb4612-6f8e-42fd-a9b3-4d924c2780c6",
   "metadata": {},
   "source": [
    "### Definindo o estagio dos modelos"
   ]
  },
  {
   "cell_type": "code",
   "execution_count": 57,
   "id": "f572c053-b440-465d-8b90-780fee3f0dcc",
   "metadata": {},
   "outputs": [],
   "source": [
    "mlflow.set_tracking_uri(MLFLOW_TRACKING_URI)"
   ]
  },
  {
   "cell_type": "code",
   "execution_count": 61,
   "id": "25d80199-1739-4fa9-8b11-e8b16603cbeb",
   "metadata": {},
   "outputs": [
    {
     "name": "stderr",
     "output_type": "stream",
     "text": [
      "Registered model 'projeto_final_classifier' already exists. Creating a new version of this model...\n",
      "2022/08/03 23:10:59 INFO mlflow.tracking._model_registry.client: Waiting up to 300 seconds for model version to finish creation.                     Model name: projeto_final_classifier, version 7\n",
      "Created version '7' of model 'projeto_final_classifier'.\n"
     ]
    },
    {
     "data": {
      "text/plain": [
       "<ModelVersion: creation_timestamp=1659579059152, current_stage='None', description=None, last_updated_timestamp=1659579059152, name='projeto_final_classifier', run_id='fbe822ea478a474f879a781234a061dd', run_link=None, source='./mlruns/1/fbe822ea478a474f879a781234a061dd/artifacts/model', status='READY', status_message=None, tags={}, user_id=None, version=7>"
      ]
     },
     "execution_count": 61,
     "metadata": {},
     "output_type": "execute_result"
    }
   ],
   "source": [
    "run_id_nb = \"fbe822ea478a474f879a781234a061dd\"\n",
    "model_uri = f\"runs:/{run_id_nb}/model\"\n",
    "mlflow.register_model(model_uri=model_uri, name=\"projeto_final_classifier\")"
   ]
  },
  {
   "cell_type": "code",
   "execution_count": 62,
   "id": "5e64e547",
   "metadata": {},
   "outputs": [
    {
     "data": {
      "text/plain": [
       "<ModelVersion: creation_timestamp=1659579059152, current_stage='Staging', description=None, last_updated_timestamp=1659579068078, name='projeto_final_classifier', run_id='fbe822ea478a474f879a781234a061dd', run_link=None, source='./mlruns/1/fbe822ea478a474f879a781234a061dd/artifacts/model', status='READY', status_message=None, tags={}, user_id=None, version=7>"
      ]
     },
     "execution_count": 62,
     "metadata": {},
     "output_type": "execute_result"
    }
   ],
   "source": [
    "model_version = 7\n",
    "new_stage = \"Staging\"\n",
    "client.transition_model_version_stage(\n",
    "    name=model_name,\n",
    "    version=model_version,\n",
    "    stage=new_stage,\n",
    "    archive_existing_versions=False\n",
    ")"
   ]
  },
  {
   "cell_type": "code",
   "execution_count": 63,
   "id": "2d6d69c8-95ad-452f-bcff-daeea3758092",
   "metadata": {},
   "outputs": [
    {
     "name": "stderr",
     "output_type": "stream",
     "text": [
      "Registered model 'projeto_final_classifier' already exists. Creating a new version of this model...\n",
      "2022/08/03 23:11:36 INFO mlflow.tracking._model_registry.client: Waiting up to 300 seconds for model version to finish creation.                     Model name: projeto_final_classifier, version 8\n",
      "Created version '8' of model 'projeto_final_classifier'.\n"
     ]
    },
    {
     "data": {
      "text/plain": [
       "<ModelVersion: creation_timestamp=1659579095961, current_stage='None', description=None, last_updated_timestamp=1659579095961, name='projeto_final_classifier', run_id='4e0b333c69d14bb990a544fdf3630bd2', run_link=None, source='./mlruns/1/4e0b333c69d14bb990a544fdf3630bd2/artifacts/model', status='READY', status_message=None, tags={}, user_id=None, version=8>"
      ]
     },
     "execution_count": 63,
     "metadata": {},
     "output_type": "execute_result"
    }
   ],
   "source": [
    "run_id_rf = \"4e0b333c69d14bb990a544fdf3630bd2\"\n",
    "model_uri = f\"runs:/{run_id_rf}/model\"\n",
    "mlflow.register_model(model_uri=model_uri, name=\"projeto_final_classifier\")"
   ]
  },
  {
   "cell_type": "code",
   "execution_count": 64,
   "id": "8b59e1b3-b26d-49ec-89fb-4b52884abf04",
   "metadata": {},
   "outputs": [
    {
     "name": "stdout",
     "output_type": "stream",
     "text": [
      "version: 8, stage: None\n",
      "version: 7, stage: Staging\n"
     ]
    }
   ],
   "source": [
    "model_name = \"projeto_final_classifier\"\n",
    "latest_versions = client.get_latest_versions(name=model_name)\n",
    "\n",
    "for version in latest_versions:\n",
    "    print(f\"version: {version.version}, stage: {version.current_stage}\")"
   ]
  },
  {
   "cell_type": "code",
   "execution_count": 67,
   "id": "7db61119-2c17-41ff-b121-92f131c8ab18",
   "metadata": {},
   "outputs": [],
   "source": [
    "def test_model(name, stage, X_test, y_test):\n",
    "    model = mlflow.pyfunc.load_model(f\"models:/{name}/{stage}\")\n",
    "    y_pred = model.predict(X_test)\n",
    "    return {\"f1\": f1_score(y_test, y_pred)}"
   ]
  },
  {
   "cell_type": "code",
   "execution_count": 68,
   "id": "680fd27d-8b2d-46a1-8a24-0533bdaf53ba",
   "metadata": {},
   "outputs": [
    {
     "name": "stdout",
     "output_type": "stream",
     "text": [
      "Wall time: 48.7 ms\n"
     ]
    },
    {
     "data": {
      "text/plain": [
       "{'f1': 0.539766918830505}"
      ]
     },
     "execution_count": 68,
     "metadata": {},
     "output_type": "execute_result"
    }
   ],
   "source": [
    "%time test_model(name=model_name, stage=\"Staging\", X_test=X_test, y_test=y_test)"
   ]
  },
  {
   "cell_type": "code",
   "execution_count": 69,
   "id": "c72fe3b3-d37d-4744-a1c0-dc0505b171d3",
   "metadata": {},
   "outputs": [
    {
     "name": "stdout",
     "output_type": "stream",
     "text": [
      "Wall time: 746 ms\n"
     ]
    },
    {
     "data": {
      "text/plain": [
       "{'f1': 0.33458646616541354}"
      ]
     },
     "execution_count": 69,
     "metadata": {},
     "output_type": "execute_result"
    }
   ],
   "source": [
    "%time test_model(name=model_name, stage=\"None\", X_test=X_test, y_test=y_test)"
   ]
  },
  {
   "cell_type": "code",
   "execution_count": 70,
   "id": "b1c53b4f-b062-460e-8c68-74347bc85361",
   "metadata": {},
   "outputs": [
    {
     "data": {
      "text/plain": [
       "<ModelVersion: creation_timestamp=1659579059152, current_stage='Production', description=None, last_updated_timestamp=1659579191071, name='projeto_final_classifier', run_id='fbe822ea478a474f879a781234a061dd', run_link=None, source='./mlruns/1/fbe822ea478a474f879a781234a061dd/artifacts/model', status='READY', status_message=None, tags={}, user_id=None, version=7>"
      ]
     },
     "execution_count": 70,
     "metadata": {},
     "output_type": "execute_result"
    }
   ],
   "source": [
    "client.transition_model_version_stage(\n",
    "    name=model_name,\n",
    "    version=7,\n",
    "    stage=\"Production\",\n",
    "    archive_existing_versions=True\n",
    ")"
   ]
  },
  {
   "cell_type": "code",
   "execution_count": 71,
   "id": "a224a056",
   "metadata": {},
   "outputs": [
    {
     "name": "stdout",
     "output_type": "stream",
     "text": [
      "version: 8, stage: None\n",
      "version: 4, stage: Staging\n",
      "version: 7, stage: Production\n"
     ]
    }
   ],
   "source": [
    "model_name = \"projeto_final_classifier\"\n",
    "latest_versions = client.get_latest_versions(name=model_name)\n",
    "\n",
    "for version in latest_versions:\n",
    "    print(f\"version: {version.version}, stage: {version.current_stage}\")"
   ]
  },
  {
   "cell_type": "code",
   "execution_count": null,
   "id": "8ea3f009",
   "metadata": {},
   "outputs": [],
   "source": []
  }
 ],
 "metadata": {
  "kernelspec": {
   "display_name": "Python 3 (ipykernel)",
   "language": "python",
   "name": "python3"
  },
  "language_info": {
   "codemirror_mode": {
    "name": "ipython",
    "version": 3
   },
   "file_extension": ".py",
   "mimetype": "text/x-python",
   "name": "python",
   "nbconvert_exporter": "python",
   "pygments_lexer": "ipython3",
   "version": "3.9.7"
  }
 },
 "nbformat": 4,
 "nbformat_minor": 5
}
